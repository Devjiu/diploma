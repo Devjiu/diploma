{
 "cells": [
  {
   "cell_type": "code",
   "execution_count": 1,
   "metadata": {
    "collapsed": false
   },
   "outputs": [],
   "source": [
    "import numpy as np\n",
    "import random as pyrandom\n",
    "from parse_input import *\n",
    "\n",
    "\n",
    "# atoms.txt Содержит информацию об атомах, в колонках следующие данные:\n",
    "# ID, x, y, z, сигма, эпсилон, заряд, \n",
    "# радиус Ван-дер-Ваальса, объём и еще две колонки типа строки; \n",
    "# радиус и объем и эти две колонки не используются далее\n",
    "atoms = rd('atoms.txt', 1, 9)  # вместо 9 можно было и 7 взять\n",
    "\n",
    "# bonds.txt Содержит информацию о связях, структура файла:\n",
    "# ID1, ID2, Kr, r0\n",
    "bonds = rd('bonds.txt', 2)\n",
    "\n",
    "# angles.txt Содержит информацию об углах, структура файла:\n",
    "# ID1, ID2, ID3, Kt, theta0\n",
    "angles = rd('angles.txt', 3)\n",
    "\n",
    "# dihedrals.txt Содержит информацию о двугранных углах, структура:\n",
    "# ID1, ID2, ID3, ID4, V1, V2, V3, V4\n",
    "# Все константы V1, V2, V3, V4 разделены на два, \n",
    "# при вычислении энергии делить их на два НЕ НАДО.\n",
    "dihedrals = rd('dihedrals.txt', 4)\n",
    "\n",
    "# neighbours.txt, two_bonds_neigh.txt, three_bonds_neigh.txt\n",
    "# Содержат информацию о соседях непосредственных, \n",
    "# второго и третьего порядка соответственно. \n",
    "# У всех одна и та же структура:\n",
    "# ID    id_1 id_2 ... id_n\n",
    "# ID – индекс атома, id_1 id_2 ... id_n – индексы его соседей.\n",
    "neighbours = rd('neighbours.txt')\n",
    "two_bonds_neigh = rd('two_bonds_neigh.txt')\n",
    "three_bonds_neigh = rd('three_bonds_neigh.txt')"
   ]
  },
  {
   "cell_type": "code",
   "execution_count": 5,
   "metadata": {
    "scrolled": true,
    "collapsed": true
   },
   "outputs": [
    {
     "name": "stdout",
     "output_type": "stream",
     "text": [
      "Coefs:  [-0.00058558  0.00054168 -0.00031629]\n"
     ]
    },
    {
     "name": "stdout",
     "output_type": "stream",
     "text": [
      "atom:  24.719  ind:  -1  sum:  24.699\natom:  24.719  ind:  0  sum:  24.719\natom:  24.719  ind:  1  sum:  24.739\nResulting coefficients:  -220.798453077\nResulting coefficients:  72907981.683\nResulting coefficients:  -134786.965819\n"
     ]
    },
    {
     "name": "stdout",
     "output_type": "stream",
     "text": [
      "Coefs:  [ -2.41090434e-04  -8.48360381e-05   5.54145295e-04]\n"
     ]
    },
    {
     "name": "stdout",
     "output_type": "stream",
     "text": [
      "atom:  8.397  ind:  -1  sum:  8.377\natom:  8.397  ind:  0  sum:  8.397\natom:  8.397  ind:  1  sum:  8.417\nResulting coefficients:  -437.187591207\nResulting coefficients:  93306631.9251\nResulting coefficients:  -30773.6039315\n"
     ]
    },
    {
     "name": "stdout",
     "output_type": "stream",
     "text": [
      "Coefs:  [-0.00044833  0.00108139 -0.00056147]\n"
     ]
    },
    {
     "name": "stdout",
     "output_type": "stream",
     "text": [
      "atom:  23.903  ind:  -1  sum:  23.883\natom:  23.903  ind:  0  sum:  23.903\natom:  23.903  ind:  1  sum:  23.923\nResulting coefficients:  -214.24068563\nResulting coefficients:  907633193.069\nResulting coefficients:  -122316.318007\n"
     ]
    },
    {
     "name": "stdout",
     "output_type": "stream",
     "text": [
      "Coefs:  [-0.00065227  0.00398819  0.00306096]\n"
     ]
    },
    {
     "name": "stdout",
     "output_type": "stream",
     "text": [
      "atom:  24.985  ind:  -1  sum:  24.965\natom:  24.985  ind:  0  sum:  24.985\natom:  24.985  ind:  1  sum:  25.005\nResulting coefficients:  -220.862371737\nResulting coefficients:  5274109627.86\nResulting coefficients:  -137880.962923\n"
     ]
    },
    {
     "name": "stdout",
     "output_type": "stream",
     "text": [
      "Coefs:  [ 0.00117063 -0.00238934  0.00387691]\n"
     ]
    },
    {
     "name": "stdout",
     "output_type": "stream",
     "text": [
      "atom:  30.198  ind:  -1  sum:  30.178\natom:  30.198  ind:  0  sum:  30.198\natom:  30.198  ind:  1  sum:  30.218\nResulting coefficients:  -523.060229518\nResulting coefficients:  -9722098132.21\nResulting coefficients:  -476545.692882\n"
     ]
    },
    {
     "name": "stdout",
     "output_type": "stream",
     "text": [
      "Coefs:  [ 0.00024237  0.00075205 -0.0015561 ]\n"
     ]
    },
    {
     "name": "stdout",
     "output_type": "stream",
     "text": [
      "atom:  19.685  ind:  -1  sum:  19.665\natom:  19.685  ind:  0  sum:  19.685\natom:  19.685  ind:  1  sum:  19.705\nResulting coefficients:  -267.53971329\nResulting coefficients:  434963010.459\nResulting coefficients:  -103591.611166"
     ]
    },
    {
     "name": "stdout",
     "output_type": "stream",
     "text": [
      "\nCoefs:  [-0.00029209  0.00012956 -0.00055706]\n"
     ]
    },
    {
     "name": "stdout",
     "output_type": "stream",
     "text": [
      "atom:  31.528  ind:  -1  sum:  31.508\natom:  31.528  ind:  0  sum:  31.528\natom:  31.528  ind:  1  sum:  31.548\nResulting coefficients:  -668.973194054\nResulting coefficients:  459286724.857\nResulting coefficients:  -664542.246758\n"
     ]
    },
    {
     "name": "stdout",
     "output_type": "stream",
     "text": [
      "Coefs:  [  4.86437906e-03  -5.13193114e-05   2.24636543e-03]\natom:  16.359  ind:  -1  sum:  16.339\n"
     ]
    },
    {
     "name": "stdout",
     "output_type": "stream",
     "text": [
      "atom:  16.359  ind:  0  sum:  16.359\natom:  16.359  ind:  1  sum:  16.379\nResulting coefficients:  -1237.77631512\nResulting coefficients:  -720718796.948\nResulting coefficients:  -330909.641595\n"
     ]
    },
    {
     "name": "stdout",
     "output_type": "stream",
     "text": [
      "Coefs:  [ 0.00046344 -0.00011476 -0.00067218]\natom:  15.927  ind:  -1 "
     ]
    },
    {
     "name": "stdout",
     "output_type": "stream",
     "text": [
      " sum:  15.907\natom:  15.927  ind:  0  sum:  15.927\natom:  15.927  ind:  1  sum:  15.947\nResulting coefficients:  -414.355488348\nResulting coefficients:  87107543.4791\nResulting coefficients:  -104993.391468\n"
     ]
    },
    {
     "name": "stdout",
     "output_type": "stream",
     "text": [
      "Coefs:  [ 0.00033463  0.00053909 -0.0011545 ]\natom:  12.723  ind:  "
     ]
    },
    {
     "name": "stdout",
     "output_type": "stream",
     "text": [
      "-1  sum:  12.703\natom:  12.723  ind:  0  sum:  12.723\natom:  12.723  ind:  1  sum:  12.743\nResulting coefficients:  -1736.97699191\nResulting coefficients:  22858218.8927\nResulting coefficients:  -280739.043319\n"
     ]
    },
    {
     "name": "stdout",
     "output_type": "stream",
     "text": [
      "Coefs:  [ 0.00058504  0.00050818 -0.00166838]\natom:  5.225  ind:  -1  sum:  5.205\natom:  5.225  ind:  0  sum:  5.225\natom:  5.225  ind:  1  sum:  5.245\n"
     ]
    },
    {
     "name": "stdout",
     "output_type": "stream",
     "text": [
      "Resulting coefficients:  -1145.64558775\nResulting coefficients:  34964088.2605\nResulting coefficients:  -31186.484915\n"
     ]
    },
    {
     "name": "stdout",
     "output_type": "stream",
     "text": [
      "Coefs:  [ 0.00054555  0.00028054 -0.00040361]\natom:  12.504  ind:  -1  sum:  12.484\natom:  12.504  ind:  0  sum:  12.504"
     ]
    },
    {
     "name": "stdout",
     "output_type": "stream",
     "text": [
      "\natom:  12.504  ind:  1  sum:  12.524\nResulting coefficients:  -1174.34254078\nResulting coefficients:  -126902729.854\nResulting coefficients:  -183310.20159\n"
     ]
    },
    {
     "name": "stdout",
     "output_type": "stream",
     "text": [
      "Coefs:  [-0.00015381  0.0026937  -0.00135446]\natom:  7.459  ind:  -1  sum:  7.439\natom:  7.459  ind:  0  sum:  7.459"
     ]
    },
    {
     "name": "stdout",
     "output_type": "stream",
     "text": [
      "\natom:  7.459  ind:  1  sum:  7.479\nResulting coefficients:  -1074.60384132\nResulting coefficients:  -283896516.233\nResulting coefficients:  -59531.7416085\nCoefs:  [ 0.00016182 -0.0002146  -0.00015332]\n"
     ]
    },
    {
     "name": "stdout",
     "output_type": "stream",
     "text": [
      "atom:  7.681  ind:  -1  sum:  7.661\natom:  7.681  ind:  0  sum:  7.681\natom:  7.681  ind:  1  sum:  7.701\nResulting coefficients:  -589.898622275\nResulting coefficients:  -9085612.89602\nResulting coefficients:  -34710.9848477\n"
     ]
    },
    {
     "name": "stdout",
     "output_type": "stream",
     "text": [
      "Coefs:  [-0.00032261 -0.00020178  0.00066029]\natom:  14.157  ind:  -1  sum:  14.137\natom:  14.157"
     ]
    },
    {
     "name": "stdout",
     "output_type": "stream",
     "text": [
      "  ind:  0  sum:  14.157\natom:  14.157  ind:  1  sum:  14.177\nResulting coefficients:  -161.720253651\nResulting coefficients:  66470256.0209\nResulting coefficients:  -32365.6358781\n"
     ]
    },
    {
     "name": "stdout",
     "output_type": "stream",
     "text": [
      "Coefs:  [ 0.00021888  0.00033901  0.00039421]\natom:  7.293  ind:  -1  sum:  7.273\natom:  7.293  ind:  0  sum:  7.293\natom:  7.293 "
     ]
    },
    {
     "name": "stdout",
     "output_type": "stream",
     "text": [
      " ind:  1  sum:  7.313\nResulting coefficients:  -128.108110801\nResulting coefficients:  78571860.2509\nResulting coefficients:  -6824.55673718\nCoefs:  [-0.00079758  0.00014966 -0.00102695]\natom:  17.211  ind:  -1  sum:  17.191\natom:  17.211  ind:  0  sum:  17.211\natom:  17.211  ind:  1  sum:  17.231"
     ]
    },
    {
     "name": "stdout",
     "output_type": "stream",
     "text": [
      "\nResulting coefficients:  0.0\nResulting coefficients:  -1.13900540035e+39\nResulting coefficients:  6.51613411882e+31\nCoefs:  [ 0.          0.00016016  0.00087336]\n"
     ]
    },
    {
     "name": "stderr",
     "output_type": "stream",
     "text": [
      "D:\\Users\\Devjiu\\Anaconda3\\lib\\site-packages\\ipykernel_launcher.py:91: RuntimeWarning: divide by zero encountered in double_scalars\nD:\\Users\\Devjiu\\Anaconda3\\lib\\site-packages\\ipykernel_launcher.py:74: RuntimeWarning: invalid value encountered in subtract\nD:\\Users\\Devjiu\\Anaconda3\\lib\\site-packages\\ipykernel_launcher.py:84: RuntimeWarning: invalid value encountered in double_scalars\nD:\\Users\\Devjiu\\Anaconda3\\lib\\site-packages\\ipykernel_launcher.py:268: RuntimeWarning: invalid value encountered in double_scalars\n"
     ]
    },
    {
     "name": "stdout",
     "output_type": "stream",
     "text": [
      "atom:  6.243  ind:  -1  sum:  6.223\natom:  6.243  ind:  0  sum:  6.243\natom:  6.243  ind:  1  sum:  6.263\nResulting coefficients:  -391.348606639\nResulting coefficients:  46182056.6272\nResulting coefficients:  -15226.3819636\n"
     ]
    },
    {
     "name": "stdout",
     "output_type": "stream",
     "text": [
      "Coefs:  [ 0.          0.00011131 -0.00022646]\natom:  22.822  ind:  -1  sum:  22.802\natom:  22.822  ind:  "
     ]
    },
    {
     "name": "stdout",
     "output_type": "stream",
     "text": [
      "0  sum:  22.822\natom:  22.822  ind:  1  sum:  22.842\nResulting coefficients:  -114.372894907\nResulting coefficients:  210347130.559\nResulting coefficients:  -59524.9411461\nCoefs:  [ 0.         -0.00014806  0.00037472]\n"
     ]
    },
    {
     "name": "stdout",
     "output_type": "stream",
     "text": [
      "atom:  14.672  ind:  -1  sum:  14.652\natom:  14.672  ind:  0  sum:  14.672\natom:  14.672  ind:  1  sum:  14.692\nResulting coefficients:  -1292.15209205\nResulting coefficients:  170874154.022\nResulting coefficients:  -277792.877803\n"
     ]
    },
    {
     "name": "stdout",
     "output_type": "stream",
     "text": [
      "Coefs:  [  0.00000000e+00   3.42432074e-04   1.42104090e-05]\natom:  19.745  ind:  -1  sum:  19.725\natom:  19.745  ind:  0  sum:  19.745\natom:  19.745  ind:  1  sum:  19.765\nResulting coefficients:  -225.214108317\nResulting coefficients:  90117019.7477\nResulting coefficients:  -87718.0541331\n"
     ]
    },
    {
     "name": "stdout",
     "output_type": "stream",
     "text": [
      "Coefs:  [  0.00000000e+00  -1.96415233e-04   4.62676743e-05]\natom:  17.197  ind:  -1  sum:  17.177\natom:  17.197  ind:  0  sum:  "
     ]
    },
    {
     "name": "stdout",
     "output_type": "stream",
     "text": [
      "17.197\natom:  17.197  ind:  1  sum:  17.217\nResulting coefficients:  -383.334765629\nResulting coefficients:  2125278.56271\nResulting coefficients:  -113234.47724\n"
     ]
    },
    {
     "name": "stdout",
     "output_type": "stream",
     "text": [
      "Coefs:  [ 0.          0.00029462 -0.00025787]\n"
     ]
    },
    {
     "name": "stdout",
     "output_type": "stream",
     "text": [
      "atom:  25.945  ind:  -1  sum:  25.925\natom:  25.945  ind:  0  sum:  25.945\natom:  25.945  ind:  1  sum:  25.965\nResulting coefficients:  -395.862155542\nResulting coefficients:  991427581.988\nResulting coefficients:  -266290.907018\n"
     ]
    },
    {
     "name": "stdout",
     "output_type": "stream",
     "text": [
      "Coefs:  [  0.00000000e+00   3.22581386e-05   2.67758105e-04]\n"
     ]
    },
    {
     "name": "stdout",
     "output_type": "stream",
     "text": [
      "atom:  27.833  ind:  -1  sum:  27.813\natom:  27.833  ind:  0  sum:  27.833\natom:  27.833  ind:  1  sum:  27.853\nResulting coefficients:  -412.300982459\nResulting coefficients:  1784521164.61\nResulting coefficients:  -319208.292983\n"
     ]
    },
    {
     "name": "stdout",
     "output_type": "stream",
     "text": [
      "Coefs:  [ 0.          0.00520835  0.00458638]\n"
     ]
    },
    {
     "name": "stdout",
     "output_type": "stream",
     "text": [
      "atom:  23.393  ind:  -1  sum:  23.373\natom:  23.393  ind:  0  sum:  23.393\natom:  23.393  ind:  1  sum:  23.413\nResulting coefficients:  -1681.38151427\nResulting coefficients:  2965067538.88\nResulting coefficients:  -919410.276278\n"
     ]
    },
    {
     "name": "stdout",
     "output_type": "stream",
     "text": [
      "Coefs:  [ 0.          0.00114355 -0.00028879]\n"
     ]
    },
    {
     "name": "stdout",
     "output_type": "stream",
     "text": [
      "atom:  15.249  ind:  -1  sum:  15.229\natom:  15.249  ind:  0  sum:  15.249\natom:  15.249  ind:  1  sum:  15.269\nResulting coefficients:  -145.659076977\nResulting coefficients:  49646469.5891\nResulting coefficients:  -33829.6190977\n"
     ]
    },
    {
     "name": "stdout",
     "output_type": "stream",
     "text": [
      "Coefs:  [ 0.          0.00013392  0.00018249]\n"
     ]
    },
    {
     "name": "stdout",
     "output_type": "stream",
     "text": [
      "atom:  25.717  ind:  -1  sum:  25.697\natom:  25.717  ind:  0  sum:  25.717\natom:  25.717  ind:  1  sum:  25.737\nResulting coefficients:  -279.408486553\nResulting coefficients:  1047469788.4\nResulting coefficients:  -184673.352138\n"
     ]
    },
    {
     "name": "stdout",
     "output_type": "stream",
     "text": [
      "Coefs:  [ 0.         -0.00011166 -0.00055254]\n"
     ]
    },
    {
     "name": "stdout",
     "output_type": "stream",
     "text": [
      "atom:  23.704  ind:  -1  sum:  23.684\natom:  23.704  ind:  0  sum:  23.704\natom:  23.704  ind:  1  sum:  23.724\nResulting coefficients:  -693.696060772\nResulting coefficients:  691244190.15\n"
     ]
    },
    {
     "name": "stdout",
     "output_type": "stream",
     "text": [
      "Resulting coefficients:  -389465.323185\nCoefs:  [ 0.          0.00012741 -0.0007735 ]\n"
     ]
    },
    {
     "name": "stdout",
     "output_type": "stream",
     "text": [
      "atom:  28.131  ind:  -1  sum:  28.111\natom:  28.131  ind:  0  sum:  28.131\natom:  28.131  ind:  1  sum:  28.151\nResulting coefficients:  -620.889389927\nResulting coefficients:  584352901.783\nResulting coefficients:  -491005.688341\n"
     ]
    },
    {
     "name": "stdout",
     "output_type": "stream",
     "text": [
      "Coefs:  [  0.00000000e+00   6.03129139e-04   6.69869847e-05]\natom:  13.867  ind: "
     ]
    },
    {
     "name": "stdout",
     "output_type": "stream",
     "text": [
      " -1  sum:  13.847\natom:  13.867  ind:  0  sum:  13.867\natom:  13.867  ind:  1  sum:  13.887\nResulting coefficients:  -82.1464160013\nResulting coefficients:  50141380.3183\nResulting coefficients:  -15777.9375492\n"
     ]
    },
    {
     "name": "stdout",
     "output_type": "stream",
     "text": [
      "Coefs:  [  0.00000000e+00   1.00179664e-03  -8.74781598e-05]\n"
     ]
    },
    {
     "name": "stdout",
     "output_type": "stream",
     "text": [
      "atom:  20.839  ind:  -1  sum:  20.819\natom:  20.839  ind:  0  sum:  20.839\natom:  20.839  ind:  1  sum:  20.859\nResulting coefficients:  -1117.76163012\nResulting coefficients:  -585469010.523\nResulting coefficients:  -484915.071975\n"
     ]
    },
    {
     "name": "stdout",
     "output_type": "stream",
     "text": [
      "Coefs:  [ 0.          0.00019285 -0.00026867]\n"
     ]
    },
    {
     "name": "stdout",
     "output_type": "stream",
     "text": [
      "atom:  13.727  ind:  -1  sum:  13.707\natom:  13.727  ind:  0  sum:  13.727\natom:  13.727  ind:  1  sum:  13.747\nResulting coefficients:  -948.976601809\nResulting coefficients:  "
     ]
    },
    {
     "name": "stdout",
     "output_type": "stream",
     "text": [
      "-254205165.005\nResulting coefficients:  -178532.417964\nCoefs:  [ 0.          0.00064231 -0.00032973]\n"
     ]
    },
    {
     "name": "stdout",
     "output_type": "stream",
     "text": [
      "atom:  24.515  ind:  -1  sum:  24.495\natom:  24.515  ind:  0  sum:  24.515\natom:  24.515  ind:  1  sum:  24.535\nResulting coefficients:  -982.320570622\nResulting coefficients:  8986396275.78\nResulting coefficients:  -590127.519454\n"
     ]
    },
    {
     "name": "stdout",
     "output_type": "stream",
     "text": [
      "Coefs:  [  0.00000000e+00  -5.98763371e-05  -7.97189561e-04]\n"
     ]
    },
    {
     "name": "stdout",
     "output_type": "stream",
     "text": [
      "atom:  8.13  ind:  -1  sum:  8.11\natom:  8.13  ind:  0  sum:  8.13\natom:  8.13  ind:  1  sum:  8.15\nResulting coefficients:  0.0\nResulting coefficients:  -7.06770528575e+36\nResulting coefficients:  1.94059436018e+30\n"
     ]
    },
    {
     "name": "stderr",
     "output_type": "stream",
     "text": [
      "D:\\Users\\Devjiu\\Anaconda3\\lib\\site-packages\\ipykernel_launcher.py:94: RuntimeWarning: invalid value encountered in double_scalars\nD:\\Users\\Devjiu\\Anaconda3\\lib\\site-packages\\ipykernel_launcher.py:74: RuntimeWarning: invalid value encountered in double_scalars\nD:\\Users\\Devjiu\\Anaconda3\\lib\\site-packages\\ipykernel_launcher.py:75: RuntimeWarning: invalid value encountered in double_scalars\nD:\\Users\\Devjiu\\Anaconda3\\lib\\site-packages\\ipykernel_launcher.py:75: RuntimeWarning: invalid value encountered in subtract\n"
     ]
    },
    {
     "name": "stdout",
     "output_type": "stream",
     "text": [
      "Coefs:  [ 0.          0.00096343 -0.0016385 ]\n"
     ]
    },
    {
     "name": "stdout",
     "output_type": "stream",
     "text": [
      "atom:  18.588  ind:  -1  sum:  18.568\natom:  18.588  ind:  0  sum:  18.588\natom:  18.588  ind:  1  sum:  18.608\nResulting coefficients:  -90.1111844707\nResulting coefficients:  3575391904.39\nResulting coefficients:  "
     ]
    },
    {
     "name": "stdout",
     "output_type": "stream",
     "text": [
      "-31275.7486864\nCoefs:  [ 0.          0.0001075  -0.00063488]\n"
     ]
    },
    {
     "name": "stdout",
     "output_type": "stream",
     "text": [
      "atom:  23.198  ind:  -1  sum:  23.178\natom:  23.198  ind:  0  sum:  23.198\natom:  23.198  ind:  1  sum:  23.218\nResulting coefficients:  3286.77070021\nResulting coefficients:  -673535659.453\nResulting coefficients:  1767262.41824\n"
     ]
    },
    {
     "name": "stdout",
     "output_type": "stream",
     "text": [
      "Coefs:  [ 0.         -0.00550293  0.00310665]\natom: "
     ]
    },
    {
     "name": "stdout",
     "output_type": "stream",
     "text": [
      " 9.981  ind:  -1  sum:  9.961\natom:  9.981  ind:  0  sum:  9.981\natom:  9.981  ind:  1  sum:  10.001\nResulting coefficients:  -1959.96740768\nResulting coefficients: "
     ]
    },
    {
     "name": "stdout",
     "output_type": "stream",
     "text": [
      " -663871070.031\nResulting coefficients:  -194743.408447\nCoefs:  [  0.00000000e+00  -6.29844404e-05   1.07906016e-04]\n"
     ]
    },
    {
     "name": "stdout",
     "output_type": "stream",
     "text": [
      "atom:  19.102  ind:  -1  sum:  19.082\natom:  19.102  ind:  0  sum:  19.102\natom:  19.102  ind:  1  sum:  19.122\nResulting coefficients:  -296.454458435\nResulting coefficients:  373722700.109\nResulting coefficients:  -108076.198903\n"
     ]
    },
    {
     "name": "stdout",
     "output_type": "stream",
     "text": [
      "Coefs:  [ 0.         -0.00301681 -0.00136391]\n"
     ]
    },
    {
     "name": "stdout",
     "output_type": "stream",
     "text": [
      "atom:  16.537  ind:  -1  sum:  16.517\natom:  16.537  ind:  0  sum:  16.537\natom:  16.537  ind:  1  sum:  16.557\nResulting coefficients:  -2189.93581503\nResulting coefficients:  2824141255.5\nResulting coefficients:  -598338.059409\n"
     ]
    },
    {
     "name": "stdout",
     "output_type": "stream",
     "text": [
      "Coefs:  [ 0.         -0.00033725  0.00011047]\n"
     ]
    },
    {
     "name": "stdout",
     "output_type": "stream",
     "text": [
      "atom:  12.498  ind:  -1  sum:  12.478\natom:  12.498  ind:  0  sum:  12.498\natom:  12.498  ind:  1  sum:  12.518\nResulting coefficients:  5623.45753598\nResulting coefficients:  -1362965611.99\nResulting coefficients:  877129.683707\n"
     ]
    },
    {
     "name": "stdout",
     "output_type": "stream",
     "text": [
      "Coefs:  [ 0.         -0.00360099 -0.01648668]\n"
     ]
    },
    {
     "name": "stdout",
     "output_type": "stream",
     "text": [
      "atom:  25.798  ind:  -1  sum:  25.778\natom:  25.798  ind:  0  sum:  25.798\natom:  25.798  ind:  1  sum:  25.818\nResulting coefficients:  406.498941291\nResulting coefficients:  5644749136.77\nResulting coefficients:  270189.315193\n"
     ]
    },
    {
     "name": "stdout",
     "output_type": "stream",
     "text": [
      "Coefs:  [ 0.          0.0006692  -0.00044777]\n"
     ]
    },
    {
     "name": "stdout",
     "output_type": "stream",
     "text": [
      "atom:  13.129  ind:  -1  sum:  13.109\natom:  13.129  ind:  0  sum:  13.129\natom:  13.129  ind:  1  sum:  13.149\nResulting coefficients:  0.0\nResulting coefficients:  -1.84900395814e+37\nResulting coefficients: "
     ]
    },
    {
     "name": "stdout",
     "output_type": "stream",
     "text": [
      " 1.85192999928e+30\nCoefs:  [  0.00000000e+00   2.66002988e-05  -2.21000839e-03]\n"
     ]
    },
    {
     "name": "stdout",
     "output_type": "stream",
     "text": [
      "atom:  15.914  ind:  -1  sum:  15.894\natom:  15.914  ind:  0  sum:  15.914\natom:  15.914  ind:  1  sum:  15.934\nResulting coefficients:  -400.015402144\n"
     ]
    },
    {
     "name": "stdout",
     "output_type": "stream",
     "text": [
      "Resulting coefficients:  771206679.729\nResulting coefficients:  -101230.596222\nCoefs:  [  0.00000000e+00  -9.60699610e-05  -1.54649292e-04]\natom:  11.868  ind: "
     ]
    },
    {
     "name": "stdout",
     "output_type": "stream",
     "text": [
      " -1  sum:  11.848\natom:  11.868  ind:  0  sum:  11.868\natom:  11.868  ind:  1  sum:  11.888\nResulting coefficients:  -96.1104596879\nResulting coefficients:  197214593.922\nResulting coefficients:  -13538.6680541\n"
     ]
    },
    {
     "name": "stdout",
     "output_type": "stream",
     "text": [
      "Coefs:  [ 0.         -0.00016999 -0.00035973]\natom: "
     ]
    },
    {
     "name": "stdout",
     "output_type": "stream",
     "text": [
      " 10.635  ind:  -1  sum:  10.615\natom:  10.635  ind:  0  sum:  10.635\natom:  10.635  ind:  1  sum:  10.655\nResulting coefficients:  -695.533604184\nResulting coefficients:  114764250.944\nResulting coefficients:  -78537.0007201"
     ]
    },
    {
     "name": "stdout",
     "output_type": "stream",
     "text": [
      "\nCoefs:  [ 0.         -0.00305625 -0.00147274]\n"
     ]
    },
    {
     "name": "stdout",
     "output_type": "stream",
     "text": [
      "atom:  6.782  ind:  -1  sum:  6.762\natom:  6.782  ind:  0  sum:  6.782\natom:  6.782  ind:  1  sum:  6.802\nResulting coefficients:  -959.212946475\nResulting coefficients:  357732132.584\nResulting coefficients:  -44134.4211045\n"
     ]
    },
    {
     "name": "stdout",
     "output_type": "stream",
     "text": [
      "Coefs:  [ 0.          0.00010061  0.00123722]\n"
     ]
    },
    {
     "name": "stdout",
     "output_type": "stream",
     "text": [
      "atom:  21.216  ind:  -1  sum:  21.196\natom:  21.216  ind:  0  sum:  21.216\natom:  21.216  ind:  1  sum:  21.236\nResulting coefficients:  196.967352096\nResulting coefficients:  -4483576753.47\nResulting coefficients:  88742.0372077\n"
     ]
    },
    {
     "name": "stdout",
     "output_type": "stream",
     "text": [
      "Coefs:  [ 0.          0.00095792  0.00921501]\n"
     ]
    },
    {
     "name": "stdout",
     "output_type": "stream",
     "text": [
      "atom:  30.887  ind:  -1  sum:  30.867\natom:  30.887  ind:  0  sum:  30.887\natom:  30.887  ind:  1  sum:  30.907\nResulting coefficients:  -2038.98510788\nResulting coefficients:  -13946324059.4\nResulting coefficients:  -1943704.62295\n"
     ]
    },
    {
     "name": "stdout",
     "output_type": "stream",
     "text": [
      "Coefs:  [ 0.          0.00138889 -0.00163722]\n"
     ]
    },
    {
     "name": "stdout",
     "output_type": "stream",
     "text": [
      "atom:  21.198  ind:  -1  sum:  21.178\natom:  21.198  ind:  0  sum:  21.198\natom:  21.198  ind:  1  sum:  21.218\nResulting coefficients:  -1249.12580254\nResulting coefficients:  2695101185.28\nResulting coefficients:  -560872.118476\n"
     ]
    },
    {
     "name": "stdout",
     "output_type": "stream",
     "text": [
      "Coefs:  [ 0.          0.00082535  0.0004397 ]\n"
     ]
    },
    {
     "name": "stdout",
     "output_type": "stream",
     "text": [
      "atom:  10.081  ind:  -1  sum:  10.061\natom:  10.081  ind:  0  sum:  10.081\natom:  10.081  ind:  1  sum:  10.101\nResulting coefficients:  -268.522753745\nResulting coefficients:  141840829.874\nResulting coefficients:  -27259.590483\n"
     ]
    },
    {
     "name": "stdout",
     "output_type": "stream",
     "text": [
      "Coefs:  [ 0.         -0.00076153 -0.00103159]\n"
     ]
    },
    {
     "name": "stdout",
     "output_type": "stream",
     "text": [
      "atom:  25.526  ind:  -1  sum:  25.506\natom:  25.526  ind:  0  sum:  25.526\natom:  25.526  ind:  1  sum:  25.546\nResulting coefficients:  -582.60800879\nResulting coefficients:  1837547774.91\nResulting coefficients:  -379363.243244\n"
     ]
    },
    {
     "name": "stdout",
     "output_type": "stream",
     "text": [
      "Coefs:  [ 0.         -0.00128693  0.00181567]\natom:  26.082 "
     ]
    },
    {
     "name": "stdout",
     "output_type": "stream",
     "text": [
      " ind:  -1  sum:  26.062\natom:  26.082  ind:  0  sum:  26.082\natom:  26.082  ind:  1  sum:  26.102\nResulting coefficients:  -3021.48582572\nResulting coefficients:  -4274740526.84\nResulting coefficients:  -2053747.83122\n"
     ]
    },
    {
     "name": "stdout",
     "output_type": "stream",
     "text": [
      "Coefs:  [ 0.          0.00446055 -0.002315  ]\n"
     ]
    },
    {
     "name": "stdout",
     "output_type": "stream",
     "text": [
      "atom:  22.145  ind:  -1  sum:  22.125\natom:  22.145  ind:  0  sum:  22.145\natom:  22.145  ind:  1  sum:  22.165\nResulting coefficients:  -869.58880204\nResulting coefficients:  -10556262419.8\nResulting coefficients: "
     ]
    },
    {
     "name": "stdout",
     "output_type": "stream",
     "text": [
      " -425702.063103\nCoefs:  [ 0.         -0.00161294  0.00134996]\n"
     ]
    },
    {
     "name": "stdout",
     "output_type": "stream",
     "text": [
      "atom:  26.615  ind:  -1  sum:  26.595\natom:  26.615  ind:  0  sum:  26.615\natom:  26.615  ind:  1  sum:  26.635\nResulting coefficients:  2056.25489217\nResulting coefficients:  -18277712538.5\nResulting coefficients:  1455898.82605\n"
     ]
    },
    {
     "name": "stdout",
     "output_type": "stream",
     "text": [
      "Coefs:  [ 0.         -0.00361371  0.00890161]\natom:  20.413  ind:  -1  sum: "
     ]
    },
    {
     "name": "stdout",
     "output_type": "stream",
     "text": [
      " 20.393\natom:  20.413  ind:  0  sum:  20.413\natom:  20.413  ind:  1  sum:  20.433\nResulting coefficients:  -181.257278047\nResulting coefficients:  -2232998987.75\nResulting coefficients:  -75364.219899\n"
     ]
    },
    {
     "name": "stdout",
     "output_type": "stream",
     "text": [
      "Coefs:  [  0.00000000e+00  -1.53183647e-44  -6.83232732e-44]\n"
     ]
    },
    {
     "name": "stdout",
     "output_type": "stream",
     "text": [
      "atom:  3.08438890306e+15  ind:  -1  sum:  3.08438890306e+15\natom:  3.08438890306e+15  ind:  0  sum:  3.08438890306e+15\natom:  3.08438890306e+15  ind:  1  sum:  3.08438890306e+15\nResulting coefficients:  -inf\n"
     ]
    },
    {
     "name": "stderr",
     "output_type": "stream",
     "text": [
      "D:\\Users\\Devjiu\\Anaconda3\\lib\\site-packages\\ipykernel_launcher.py:83: RuntimeWarning: invalid value encountered in double_scalars\nD:\\Users\\Devjiu\\Anaconda3\\lib\\site-packages\\ipykernel_launcher.py:83: RuntimeWarning: divide by zero encountered in double_scalars\n"
     ]
    },
    {
     "name": "stdout",
     "output_type": "stream",
     "text": [
      "Coefs:  [ 0.          0.00082601  0.00016382]\natom: "
     ]
    },
    {
     "name": "stdout",
     "output_type": "stream",
     "text": [
      " 10.077  ind:  -1  sum:  10.057\natom:  10.077  ind:  0  sum:  10.077\natom:  10.077  ind:  1  sum:  10.097\nResulting coefficients:  -236.805732154\nResulting coefficients:  140076095.889\nResulting coefficients:  -24023.3316106\n"
     ]
    },
    {
     "name": "stdout",
     "output_type": "stream",
     "text": [
      "Coefs:  [ 0.          0.00123369  0.00077719]\n"
     ]
    },
    {
     "name": "stdout",
     "output_type": "stream",
     "text": [
      "atom:  20.112  ind:  -1  sum:  20.092\natom:  20.112  ind:  0  sum:  20.112\natom:  20.112  ind:  1  sum:  20.132\nResulting coefficients:  4.50359963874e+21\nResulting coefficients:  -6.60254529504e+38\nResulting coefficients:  2.74273662512e+31\n"
     ]
    },
    {
     "name": "stdout",
     "output_type": "stream",
     "text": [
      "Coefs:  [ 0.         -0.00014728  0.00088569]\natom: "
     ]
    },
    {
     "name": "stdout",
     "output_type": "stream",
     "text": [
      " 5.799  ind:  -1  sum:  5.779\natom:  5.799  ind:  0  sum:  5.799\natom:  5.799  ind:  1  sum:  5.819\nResulting coefficients:  -512.691366875\nResulting coefficients:  54468885.1912\nResulting coefficients:  -17212.6042672\n"
     ]
    },
    {
     "name": "stdout",
     "output_type": "stream",
     "text": [
      "Coefs:  [ 0.          0.00061117 -0.00014177]\natom:  "
     ]
    },
    {
     "name": "stdout",
     "output_type": "stream",
     "text": [
      "16.766  ind:  -1  sum:  16.746\natom:  16.766  ind:  0  sum:  16.766\natom:  16.766  ind:  1  sum:  16.786\nResulting coefficients:  -410.115384396\nResulting coefficients:  133823421.112\nResulting coefficients:  -115153.484048\n"
     ]
    },
    {
     "name": "stdout",
     "output_type": "stream",
     "text": [
      "Coefs:  [  0.00000000e+00  -6.76994979e-05  -3.86749442e-04]\natom: "
     ]
    },
    {
     "name": "stdout",
     "output_type": "stream",
     "text": [
      " 14.122  ind:  -1  sum:  14.102\natom:  14.122  ind:  0  sum:  14.122\natom:  14.122  ind:  1  sum:  14.142\nResulting coefficients:  -287.535382523\nResulting coefficients:  -52331146.501\nResulting coefficients:  -57257.7181893\n"
     ]
    },
    {
     "name": "stdout",
     "output_type": "stream",
     "text": [
      "Coefs:  [ 0.         -0.00020586 -0.00224719]\n"
     ]
    },
    {
     "name": "stdout",
     "output_type": "stream",
     "text": [
      "atom:  26.225  ind:  -1  sum:  26.205\natom:  26.225  ind:  0  sum:  26.225\natom:  26.225  ind:  1  sum:  26.245\nResulting coefficients:  2941.79654431\nResulting coefficients:  -11439853216.7\nResulting coefficients:  2021955.69627\n"
     ]
    },
    {
     "name": "stdout",
     "output_type": "stream",
     "text": [
      "Coefs:  [  0.00000000e+00   5.28168188e-05   1.86357462e-03]\n"
     ]
    },
    {
     "name": "stdout",
     "output_type": "stream",
     "text": [
      "atom:  8.578  ind:  -1  sum:  8.558\natom:  8.578  ind:  0  sum:  8.578\natom:  8.578  ind:  1  sum:  8.598\nResulting coefficients:  -4.83183818587e+15\nResulting coefficients:  -2.95835197413e+31\nResulting coefficients:  7.24557863088e+24\n"
     ]
    },
    {
     "name": "stdout",
     "output_type": "stream",
     "text": [
      "Coefs:  [  0.00000000e+00  -1.07458518e-36  -2.70570778e-36]\natom: "
     ]
    },
    {
     "name": "stdout",
     "output_type": "stream",
     "text": [
      " 544207227168.0  ind:  -1  sum:  544207227168.0\natom:  544207227168.0  ind:  0  sum:  544207227168.0\natom:  544207227168.0  ind:  1  sum:  544207227168.0\n"
     ]
    },
    {
     "name": "stdout",
     "output_type": "stream",
     "text": [
      "Coefs:  [ 0.          0.00119689  0.00101854]\n"
     ]
    },
    {
     "name": "stdout",
     "output_type": "stream",
     "text": [
      "atom:  11.676  ind:  -1  sum:  11.656\natom:  11.676  ind:  0  sum:  11.676\natom:  11.676  ind:  1  sum:  11.696\nResulting coefficients:  2987.6835877\nResulting coefficients:  -1977750824.15\nResulting coefficients:  406863.100239\n"
     ]
    },
    {
     "name": "stdout",
     "output_type": "stream",
     "text": [
      "Coefs:  [ 0.          0.00059657  0.00140407]\n"
     ]
    },
    {
     "name": "stdout",
     "output_type": "stream",
     "text": [
      "atom:  13.313  ind:  -1  sum:  13.293\natom:  13.313  ind:  0  sum:  13.313\natom:  13.313  ind:  1  sum:  13.333\nResulting coefficients:  -623.493705423\nResulting coefficients:  -21790988.7775\nResulting coefficients:  -110337.377683\n"
     ]
    },
    {
     "name": "stdout",
     "output_type": "stream",
     "text": [
      "Coefs:  [ 0.          0.00021034  0.00056396]\natom:  26.725 "
     ]
    },
    {
     "name": "stdout",
     "output_type": "stream",
     "text": [
      " ind:  -1  sum:  26.705\natom:  26.725  ind:  0  sum:  26.725\natom:  26.725  ind:  1  sum:  26.745\nResulting coefficients:  0.0\nResulting coefficients:  -3.15125140867e+43\nResulting coefficients:  7.32263681231e+35\n"
     ]
    },
    {
     "name": "stdout",
     "output_type": "stream",
     "text": [
      "Coefs:  [ 0.         -0.00849477 -0.0073696 ]\natom:  24.566  ind:  -1  sum:  24.546\natom:  24.566  ind: "
     ]
    },
    {
     "name": "stdout",
     "output_type": "stream",
     "text": [
      " 0  sum:  24.566\natom:  24.566  ind:  1  sum:  24.586\nResulting coefficients:  0.0\nResulting coefficients:  -2.71517043269e+44\nResulting coefficients:  7.49160693759e+36\n"
     ]
    },
    {
     "name": "stdout",
     "output_type": "stream",
     "text": [
      "Coefs:  [  0.00000000e+00   2.01096882e-04  -4.82658651e-05]\n"
     ]
    },
    {
     "name": "stdout",
     "output_type": "stream",
     "text": [
      "atom:  6.333  ind:  -1  sum:  6.313\natom:  6.333  ind:  0  sum:  6.333\natom:  6.333  ind:  1  sum:  6.353\nResulting coefficients:  -1100.85502999\nResulting coefficients:  155259019.567\nResulting coefficients:  -44085.4763656\n"
     ]
    },
    {
     "name": "stdout",
     "output_type": "stream",
     "text": [
      "Coefs:  [ 0.          0.001195    0.00050665]\natom: "
     ]
    },
    {
     "name": "stdout",
     "output_type": "stream",
     "text": [
      " 21.753  ind:  -1  sum:  21.733\natom:  21.753  ind:  0  sum:  21.753\natom:  21.753  ind:  1  sum:  21.773\nResulting coefficients:  -227.437010262\nResulting coefficients:  642397855.835\nResulting coefficients:  -107545.379286\n"
     ]
    },
    {
     "name": "stdout",
     "output_type": "stream",
     "text": [
      "Coefs:  [ 0.          0.00156355  0.00013   ]\n"
     ]
    },
    {
     "name": "stdout",
     "output_type": "stream",
     "text": [
      "atom:  26.321  ind:  -1  sum:  26.301\natom:  26.321  ind:  0  sum:  26.321\natom:  26.321  ind:  1  sum:  26.341\nResulting coefficients:  -1223.54119892\nResulting coefficients:  313678201.734\nResulting coefficients:  -847026.695765\n"
     ]
    },
    {
     "name": "stdout",
     "output_type": "stream",
     "text": [
      "Coefs:  [  0.00000000e+00   2.84766452e-04  -8.76624045e-06]\n"
     ]
    },
    {
     "name": "stdout",
     "output_type": "stream",
     "text": [
      "atom:  13.03  ind:  -1  sum:  13.01\natom:  13.03  ind:  0  sum:  13.03\natom:  13.03  ind:  1  sum:  13.05\nResulting coefficients:  -232.470661715\nResulting coefficients:  146904956.696\nResulting coefficients:  -39423.4428654\n"
     ]
    },
    {
     "name": "stdout",
     "output_type": "stream",
     "text": [
      "Coefs:  [  0.00000000e+000   3.36730484e-141   1.73480621e-141]\n"
     ]
    },
    {
     "name": "stdout",
     "output_type": "stream",
     "text": [
      "atom:  9.2375644501e+46  ind:  -1  sum:  9.2375644501e+46\natom:  9.2375644501e+46  ind:  0  sum:  9.2375644501e+46\natom:  9.2375644501e+46  ind:  1  sum:  9.2375644501e+46\nResulting coefficients:  -inf\n"
     ]
    },
    {
     "name": "stdout",
     "output_type": "stream",
     "text": [
      "Coefs:  [ 0.          0.00291105  0.0029534 ]\n"
     ]
    },
    {
     "name": "stdout",
     "output_type": "stream",
     "text": [
      "atom:  17.536  ind:  -1  sum:  17.516\natom:  17.536  ind:  0  sum:  17.536\natom:  17.536  ind:  1  sum:  17.556\nResulting coefficients:  -599.639189958\nResulting coefficients:  3355606751.91\nResulting coefficients:  -184370.236176\n"
     ]
    },
    {
     "name": "stdout",
     "output_type": "stream",
     "text": [
      "Coefs:  [ 0.         -0.00023112  0.0004991 ]\n"
     ]
    },
    {
     "name": "stdout",
     "output_type": "stream",
     "text": [
      "atom:  13.521  ind:  -1  sum:  13.501\natom:  13.521  ind:  0  sum:  13.521\natom:  13.521  ind:  1  sum:  13.541\nResulting coefficients:  -69.4279077725\nResulting coefficients:  247200596.092\nResulting coefficients:  -12697.1484781\n"
     ]
    },
    {
     "name": "stdout",
     "output_type": "stream",
     "text": [
      "Coefs:  [ 0.         -0.00032194  0.00071299]\n"
     ]
    },
    {
     "name": "stdout",
     "output_type": "stream",
     "text": [
      "atom:  22.992  ind:  -1  sum:  22.972\natom:  22.992  ind:  0  sum:  22.992\natom:  22.992  ind:  1  sum:  23.012\nResulting coefficients:  -1246.04964392\nResulting coefficients:  -2178818605.64\nResulting coefficients: "
     ]
    },
    {
     "name": "stdout",
     "output_type": "stream",
     "text": [
      " -658059.987855\nCoefs:  [ 0.         -0.00082739  0.00109032]\n"
     ]
    },
    {
     "name": "stdout",
     "output_type": "stream",
     "text": [
      "atom:  18.226  ind:  -1  sum:  18.206\natom:  18.226  ind:  0  sum:  18.226\natom:  18.226  ind:  1  sum:  18.246\nResulting coefficients:  -1537.05406613\nResulting coefficients:  -97297476.0765\nResulting coefficients:  -510024.258819\n"
     ]
    },
    {
     "name": "stdout",
     "output_type": "stream",
     "text": [
      "Coefs:  [  0.00000000e+00  -2.00400295e-38  -3.34971184e-39]\n"
     ]
    },
    {
     "name": "stdout",
     "output_type": "stream",
     "text": [
      "atom:  6.99386607006e+12  ind:  -1  sum:  6.99386607006e+12\natom:  6.99386607006e+12  ind:  0  sum:  6.99386607006e+12\natom:  6.99386607006e+12  ind:  1  sum:  6.99386607006e+12\nResulting coefficients:  -inf\nResulting coefficients:  -inf\nResulting coefficients:  inf\n"
     ]
    },
    {
     "name": "stderr",
     "output_type": "stream",
     "text": [
      "D:\\Users\\Devjiu\\Anaconda3\\lib\\site-packages\\ipykernel_launcher.py:91: RuntimeWarning: invalid value encountered in double_scalars\n"
     ]
    },
    {
     "name": "stdout",
     "output_type": "stream",
     "text": [
      "Coefs:  [ 0.  0.  0.]\n"
     ]
    },
    {
     "name": "stdout",
     "output_type": "stream",
     "text": [
      "atom:  1.94301870325e+15  ind:  -1  sum:  1.94301870325e+15\natom:  1.94301870325e+15  ind:  0  sum:  1.94301870325e+15\natom:  1.94301870325e+15  ind:  1  sum:  1.94301870325e+15\n"
     ]
    },
    {
     "name": "stdout",
     "output_type": "stream",
     "text": [
      "Coefs:  [ 0.  0.  0.]\n"
     ]
    },
    {
     "name": "stdout",
     "output_type": "stream",
     "text": [
      "atom:  23.996  ind:  -1  sum:  23.976\natom:  23.996  ind:  0  sum:  23.996\natom:  23.996  ind:  1  sum:  24.016\n"
     ]
    },
    {
     "name": "stdout",
     "output_type": "stream",
     "text": [
      "Coefs:  [ 0.  0.  0.]\n"
     ]
    },
    {
     "name": "stdout",
     "output_type": "stream",
     "text": [
      "atom:  27.032  ind:  -1  sum:  27.012\natom:  27.032  ind:  0  sum:  27.032\natom:  27.032  ind:  1  sum:  27.052\n"
     ]
    },
    {
     "name": "stdout",
     "output_type": "stream",
     "text": [
      "Coefs:  [ 0.  0.  0.]\n"
     ]
    },
    {
     "name": "stdout",
     "output_type": "stream",
     "text": [
      "atom:  17.401  ind:  -1  sum:  17.381\natom:  17.401  ind:  0  sum:  17.401\natom:  17.401  ind:  1  sum:  17.421\n"
     ]
    },
    {
     "name": "stdout",
     "output_type": "stream",
     "text": [
      "Coefs:  [ 0.  0.  0.]\n"
     ]
    },
    {
     "name": "stdout",
     "output_type": "stream",
     "text": [
      "atom:  24.299  ind:  -1  sum:  24.279\natom:  24.299  ind:  0  sum:  24.299\natom:  24.299  ind:  1  sum:  24.319\n"
     ]
    },
    {
     "name": "stdout",
     "output_type": "stream",
     "text": [
      "Coefs:  [ 0.  0.  0.]\natom:  3.08438890306e+15  ind:  -1"
     ]
    },
    {
     "name": "stdout",
     "output_type": "stream",
     "text": [
      "  sum:  3.08438890306e+15\natom:  3.08438890306e+15  ind:  0  sum:  3.08438890306e+15\natom:  3.08438890306e+15  ind:  1  sum:  3.08438890306e+15\n"
     ]
    },
    {
     "name": "stdout",
     "output_type": "stream",
     "text": [
      "Coefs:  [ 0.  0.  0.]\n"
     ]
    },
    {
     "name": "stdout",
     "output_type": "stream",
     "text": [
      "atom:  20.644  ind:  -1  sum:  20.624\natom:  20.644  ind:  0  sum:  20.644\natom:  20.644  ind:  1  sum:  20.664\n"
     ]
    },
    {
     "name": "stderr",
     "output_type": "stream",
     "text": [
      "D:\\Users\\Devjiu\\Anaconda3\\lib\\site-packages\\ipykernel_launcher.py:256: RuntimeWarning: invalid value encountered in subtract\nD:\\Users\\Devjiu\\Anaconda3\\lib\\site-packages\\ipykernel_launcher.py:267: RuntimeWarning: invalid value encountered in subtract\n"
     ]
    },
    {
     "name": "stdout",
     "output_type": "stream",
     "text": [
      "Coefs:  [ 0.  0.  0.]\n"
     ]
    },
    {
     "name": "stderr",
     "output_type": "stream",
     "text": [
      "D:\\Users\\Devjiu\\Anaconda3\\lib\\site-packages\\ipykernel_launcher.py:156: RuntimeWarning: invalid value encountered in subtract\nD:\\Users\\Devjiu\\Anaconda3\\lib\\site-packages\\ipykernel_launcher.py:195: RuntimeWarning: invalid value encountered in subtract\n"
     ]
    },
    {
     "name": "stdout",
     "output_type": "stream",
     "text": [
      "atom:  -inf  ind:  -1  sum:  -inf\natom:  -inf  ind:  0  sum:  -inf\natom:  -inf  ind:  1  sum:  -inf\n"
     ]
    },
    {
     "name": "stderr",
     "output_type": "stream",
     "text": [
      "D:\\Users\\Devjiu\\Anaconda3\\lib\\site-packages\\ipykernel_launcher.py:70: RuntimeWarning: invalid value encountered in double_scalars\n"
     ]
    },
    {
     "name": "stdout",
     "output_type": "stream",
     "text": [
      "Coefs:  [ 0.  0.  0.]\n"
     ]
    },
    {
     "name": "stdout",
     "output_type": "stream",
     "text": [
      "atom:  9.721  ind:  -1  sum:  9.701\natom:  9.721  ind:  0  sum:  9.721\natom:  9.721  ind:  1  sum:  9.741\n"
     ]
    },
    {
     "name": "stdout",
     "output_type": "stream",
     "text": [
      "Coefs:  [ 0.  0.  0.]\n"
     ]
    },
    {
     "name": "stdout",
     "output_type": "stream",
     "text": [
      "atom:  12.677  ind:  -1  sum:  12.657\natom:  12.677  ind:  0  sum:  12.677\natom:  12.677  ind:  1  sum:  12.697\n"
     ]
    },
    {
     "name": "stdout",
     "output_type": "stream",
     "text": [
      "Coefs:  [ 0.  0.  0.]\n"
     ]
    },
    {
     "name": "stdout",
     "output_type": "stream",
     "text": [
      "atom:  19.668  ind:  -1  sum:  19.648\natom:  19.668  ind:  0  sum:  19.668\natom:  19.668  ind:  1  sum:  19.688\n"
     ]
    },
    {
     "name": "stdout",
     "output_type": "stream",
     "text": [
      "Coefs:  [ 0.  0.  0.]\n"
     ]
    },
    {
     "name": "stdout",
     "output_type": "stream",
     "text": [
      "atom:  10.127  ind:  -1  sum:  10.107\natom:  10.127  ind:  0  sum:  10.127\natom:  10.127  ind:  1  sum:  10.147\n"
     ]
    },
    {
     "name": "stdout",
     "output_type": "stream",
     "text": [
      "Coefs:  [ 0.  0.  0.]\n"
     ]
    },
    {
     "name": "stdout",
     "output_type": "stream",
     "text": [
      "atom:  1.60815996407e+14  ind:  -1  sum:  1.60815996407e+14\natom:  1.60815996407e+14  ind:  0  sum:  1.60815996407e+14\natom:  1.60815996407e+14  ind:  1  sum:  1.60815996407e+14\n"
     ]
    },
    {
     "name": "stdout",
     "output_type": "stream",
     "text": [
      "Coefs:  [ 0.  0.  0.]\n"
     ]
    },
    {
     "name": "stdout",
     "output_type": "stream",
     "text": [
      "atom:  8.106  ind:  -1  sum:  8.086\natom:  8.106  ind:  0  sum:  8.106\natom:  8.106  ind:  1  sum:  8.126\n"
     ]
    },
    {
     "name": "stdout",
     "output_type": "stream",
     "text": [
      "Coefs:  [ 0.  0.  0.]\natom: "
     ]
    },
    {
     "name": "stdout",
     "output_type": "stream",
     "text": [
      " 22.222  ind:  -1  sum:  22.202\natom:  22.222  ind:  0  sum:  22.222\natom:  22.222  ind:  1  sum:  22.242\n"
     ]
    },
    {
     "name": "stdout",
     "output_type": "stream",
     "text": [
      "Coefs:  [ 0.  0.  0.]\natom:  30.283 "
     ]
    },
    {
     "name": "stdout",
     "output_type": "stream",
     "text": [
      " ind:  -1  sum:  30.263\natom:  30.283  ind:  0  sum:  30.283\natom:  30.283  ind:  1  sum:  30.303\n"
     ]
    },
    {
     "name": "stdout",
     "output_type": "stream",
     "text": [
      "Coefs:  [ 0.  0.  0.]\n"
     ]
    },
    {
     "name": "stdout",
     "output_type": "stream",
     "text": [
      "atom:  18.274  ind:  -1  sum:  18.254\natom:  18.274  ind:  0  sum:  18.274\natom:  18.274  ind:  1  sum:  18.294\n"
     ]
    },
    {
     "name": "stdout",
     "output_type": "stream",
     "text": [
      "Coefs:  [ 0.  0.  0.]\n"
     ]
    },
    {
     "name": "stdout",
     "output_type": "stream",
     "text": [
      "atom:  24.091  ind:  -1  sum:  24.071\natom:  24.091  ind:  0  sum:  24.091\natom:  24.091  ind:  1  sum:  24.111\n"
     ]
    },
    {
     "name": "stdout",
     "output_type": "stream",
     "text": [
      "Coefs:  [ 0.  0.  0.]\n"
     ]
    },
    {
     "name": "stdout",
     "output_type": "stream",
     "text": [
      "atom:  8.134  ind:  -1  sum:  8.114\natom:  8.134  ind:  0  sum:  8.134\natom:  8.134  ind:  1  sum:  8.154\n"
     ]
    },
    {
     "name": "stdout",
     "output_type": "stream",
     "text": [
      "Coefs:  [ 0.  0.  0.]\n"
     ]
    },
    {
     "name": "stdout",
     "output_type": "stream",
     "text": [
      "atom:  11.617  ind:  -1  sum:  11.597\natom:  11.617  ind:  0  sum:  11.617\natom:  11.617  ind:  1  sum:  11.637\n"
     ]
    },
    {
     "name": "stdout",
     "output_type": "stream",
     "text": [
      "Coefs:  [ 0.  0.  0.]\n"
     ]
    },
    {
     "name": "stdout",
     "output_type": "stream",
     "text": [
      "atom:  25.547  ind:  -1  sum:  25.527\natom:  25.547  ind:  0  sum:  25.547\natom:  25.547  ind:  1  sum:  25.567\n"
     ]
    },
    {
     "name": "stdout",
     "output_type": "stream",
     "text": [
      "Coefs:  [ 0.  0.  0.]\n"
     ]
    },
    {
     "name": "stdout",
     "output_type": "stream",
     "text": [
      "atom:  22.582  ind:  -1  sum:  22.562\natom:  22.582  ind:  0  sum:  22.582\natom:  22.582  ind:  1  sum:  22.602\nnan\n"
     ]
    }
   ],
   "source": [
    "from output import *\n",
    "from energy import *\n",
    "from itertools import cycle\n",
    "\n",
    "N = 100  # 10000 # число итераций\n",
    "l = len(atoms)  # число атомов в изучаемом белке\n",
    "h = [0.02, 0.02, 0.02]  # размеры шагов по ортам в ангстремах\n",
    "L = 3  # сколько шагов делаем вдоль каждого орта с учетом знака\n",
    "S = 0\n",
    "r = 10  # размер окрестности атома, по которой честно суммируем\n",
    "M = 1000  # параметр, отвечающий за частоту вывода и сохранения информации\n",
    "mas = []\n",
    "tt = []\n",
    "time_start = millis()\n",
    "\n",
    "for k in range(0, N):\n",
    "    atoms_old = atoms\n",
    "    record = [0, 0, 0]\n",
    "    num = pyrandom.randrange(0, l)\n",
    "    nghb_d = nghb_dihedrals(dihedrals, num)\n",
    "    nghb_a = nghb_angles(angles, num)\n",
    "    nghb_b = nghb_bonds(bonds, num)\n",
    "    nghb_nb = nghbnb(atoms, num, r)[0]\n",
    "    nghbc = nghbnb(atoms, num, r)[1]\n",
    "    [Cx, Cy, Cz] = coef_nb(atoms, num, nghbc)\n",
    "    DE_elst = E_elst(atoms, neighbours, two_bonds_neigh, three_bonds_neigh, num) - \\\n",
    "              E_elst_m(atoms, neighbours, two_bonds_neigh, three_bonds_neigh, num, nghb_nb)\n",
    "\n",
    "    E_old = E(atoms, dihedrals, angles, bonds, neighbours, two_bonds_neigh,\n",
    "              three_bonds_neigh, num, nghb_d, nghb_a, nghb_b, nghb_nb, full=True)\n",
    "    E_record = E_old\n",
    "\n",
    "    candidates = np.array([0.0, 0.0, 0.0],  dtype=np.float64)\n",
    "    parabola_arg = np.array([0.0, 0.0, 0.0], dtype=np.float64)\n",
    "    tmp = atoms_old[num][1]\n",
    "    \n",
    "    a = cycle([Cx, Cy, Cz])\n",
    "    al = cycle([1, 2, 3])\n",
    "    c = next(a)\n",
    "    where = next(al)\n",
    "        \n",
    "    for indent in [-1, 0, 1]:\n",
    "        print(\"atom: \", tmp, \" ind: \", indent, \" sum: \", np.float64(tmp + indent * h[0]))\n",
    "        parabola_arg[1 + indent] = np.float64(tmp + indent * h[0])\n",
    "        atoms[num][where] = atoms_old[num][where] + indent * h[0]\n",
    "        candidates[1 + indent] = DE_elst + c * indent * h[0] + \\\n",
    "                                 E(atoms, dihedrals, angles, bonds, neighbours, two_bonds_neigh,\n",
    "                                   three_bonds_neigh, num, nghb_d, nghb_a, nghb_b, nghb_nb, full=False)\n",
    "        # print(indent, \n",
    "        #   \" value: \", \n",
    "        #   candidates[1 + indent], \n",
    "        #   \" arg: \", \n",
    "        #   parabola_arg[1 + indent], \n",
    "        #   \" atoms_old[num][1]: \", \n",
    "        #   tmp)\n",
    "    # print(candidates)\n",
    "\n",
    "    parabola_coefficients = {'a': 0.0, 'b': 0.0, 'c': 0.0}\n",
    "    # print(parabola_arg)\n",
    "    denominator = \\\n",
    "        parabola_arg[0] * np.power(parabola_arg[1], 2) - np.power(parabola_arg[0], 2) * parabola_arg[1] \\\n",
    "        - parabola_arg[0] * np.power(parabola_arg[2], 2) + parabola_arg[1] * np.power(parabola_arg[2], 2) \\\n",
    "        + np.power(parabola_arg[0], 2) * parabola_arg[2] - np.power(parabola_arg[1], 2) * parabola_arg[2]\n",
    "    \n",
    "    parabola_coefficients['a'] = \\\n",
    "        - parabola_arg[1] * candidates[0] + parabola_arg[2] * candidates[0] \\\n",
    "        + parabola_arg[0] * candidates[1] - parabola_arg[2] * candidates[1] \\\n",
    "        - parabola_arg[0] * candidates[2] + parabola_arg[1] * candidates[2]\n",
    "\n",
    "    parabola_coefficients['b'] = \\\n",
    "        np.power(parabola_arg[1], 2) * candidates[0] - np.power(parabola_arg[2], 2) * candidates[0] \\\n",
    "        - np.power(parabola_arg[0], 2) * candidates[1] + parabola_arg[2] * candidates[1] \\\n",
    "        + np.power(parabola_arg[0], 2) * candidates[2] - np.power(parabola_arg[1], 2) * candidates[2]\n",
    "\n",
    "    parabola_coefficients['c'] = \\\n",
    "        parabola_arg[1] * np.power(parabola_arg[2], 2) * candidates[0] - np.power(parabola_arg[1], 2) * parabola_arg[2] * candidates[0] \\\n",
    "        - parabola_arg[0] * np.power(parabola_arg[2], 2) * candidates[1] + np.power(parabola_arg[0], 2) * parabola_arg[2] * candidates[1] \\\n",
    "        + parabola_arg[0] * np.power(parabola_arg[1], 2) * candidates[2] - np.power(parabola_arg[0], 2) * parabola_arg[1] * candidates[2]\n",
    "\n",
    "    # for arg in [0, 1, 2]:\n",
    "    #     print(\"Arguments: \", parabola_arg[arg], \" answer: \", candidates[arg])\n",
    "        \n",
    "    skip = False\n",
    "    for coef in parabola_coefficients:\n",
    "        parabola_coefficients[coef] = parabola_coefficients[coef] / denominator\n",
    "        if not math.isnan(parabola_coefficients[coef]):\n",
    "            print(\"Resulting coefficients: \", parabola_coefficients[coef])\n",
    "        else:\n",
    "            skip = True\n",
    "    \n",
    "    parabola_min_arg = 0\n",
    "    if not skip:\n",
    "        parabola_min_arg = - (parabola_coefficients['b'] ** 2) / (2 * parabola_coefficients['a'])\n",
    "        atoms[num][1] = atoms_old[num][1] + parabola_min_arg    \n",
    "    atoms[num][where] = atoms_old[num][where] + parabola_min_arg * h[where]\n",
    "    E_new = DE_elst + c * parabola_min_arg + \\\n",
    "            E(atoms, dihedrals, angles, bonds, neighbours, two_bonds_neigh,\n",
    "              three_bonds_neigh, num, nghb_d, nghb_a, nghb_b, nghb_nb, full=False)\n",
    "    #  \"-0.2\" чтобы не учитвать погрешности в аппроксимации\n",
    "    if E_new < E_record - 2:\n",
    "        # record = [px, py, pz]\n",
    "        E_record = E_new\n",
    "        \n",
    "    S = S + E_old - E_record\n",
    "    mas.append(S)\n",
    "    time_now = millis()\n",
    "    ttm = (time_now - time_start) / 60000\n",
    "    tt.append(ttm)\n",
    "    \n",
    "print(S)\n",
    "\n",
    "#     for px in range(-L, L + 1):\n",
    "#         for py in range(-L, L + 1):\n",
    "#             for pz in range(-L, L + 1):\n",
    "#                 atoms[num][1] = atoms_old[num][1] + px * h[0]\n",
    "#                 atoms[num][2] = atoms_old[num][2] + py * h[1]\n",
    "#                 atoms[num][3] = atoms_old[num][3] + pz * h[2]\n",
    "#                 E_new = DE_elst + Cx * px * h[0] + Cy * py * h[1] + Cz * pz * h[2] + \\\n",
    "#                         E(atoms, dihedrals, angles, bonds, neighbours, two_bonds_neigh,\n",
    "#                           three_bonds_neigh, num, nghb_d, nghb_a, nghb_b, nghb_nb, full=False)\n",
    "#                 #  \"-0.2\" чтобы не учитвать погрешности в аппроксимации\n",
    "#                 if E_new < E_record - 2:\n",
    "#                     record = [px, py, pz]\n",
    "#                     E_record = E_new\n",
    "#     atoms = atoms_old\n",
    "# \n",
    "#     atoms[num][1] = atoms_old[num][1] + record[0] * h[0]\n",
    "#     atoms[num][2] = atoms_old[num][2] + record[1] * h[1]\n",
    "#     atoms[num][3] = atoms_old[num][3] + record[2] * h[2]\n",
    "# \n",
    "#     S = S + E_old - E_record\n",
    "#     mas.append(S)\n",
    "#     time_now = millis()\n",
    "#     ttm = (time_now - time_start) / 60000\n",
    "#     tt.append(ttm)\n",
    "#     # приводимый далее блок можно закомментировать\n",
    "#     # это просто печать результатов в файлы и отображения хода работы метода\n",
    "#     # if k/M == int(k/M):\n",
    "#     #     prp_atm(atoms,k)\n",
    "#     #     os.system('./to-pdb atoms_out' + str(k) + '.csv output' + str(k) + '.pdb')\n",
    "#     #     time_now = millis()\n",
    "#     #     tm = (time_now - time_start)/60000\n",
    "#     #     print(\"Число итераций {}; Энергия {}; Время (мин) {}\".format(k,S,tm))\n",
    "# print(S)\n"
   ]
  },
  {
   "cell_type": "code",
   "execution_count": 3,
   "metadata": {},
   "outputs": [
    {
     "data": {
      "image/png": "[encoded data removed]",
      "text/plain": [
       "<matplotlib.figure.Figure at 0x60bcc54da0>"
      ]
     },
     "metadata": {},
     "output_type": "display_data"
    }
   ],
   "source": [
    "import matplotlib.pyplot as plt\n",
    "\n",
    "mmas = - np.array(mas)\n",
    "\n",
    "plt.plot(tt, mmas)\n",
    "plt.xlabel(r\"Время работы программы в минутах\")\n",
    "plt.ylabel(r\"$\\Delta E$\")\n",
    "plt.grid(True)\n",
    "plt.show()"
   ]
  },
  {
   "cell_type": "code",
   "execution_count": 259,
   "metadata": {},
   "outputs": [
    {
     "name": "stdout",
     "output_type": "stream",
     "text": [
      "-9.24958278929\n"
     ]
    },
    {
     "data": {
      "image/png": "[encoded data removed]",
      "text/plain": [
       "<matplotlib.figure.Figure at 0x108b40e10>"
      ]
     },
     "metadata": {},
     "output_type": "display_data"
    },
    {
     "name": "stdout",
     "output_type": "stream",
     "text": [
      "-9.26363823318\n"
     ]
    }
   ],
   "source": [
    "num = 280\n",
    "coor = 2\n",
    "h = 0.005\n",
    "M = 100\n",
    "mmm = []\n",
    "ccc = []\n",
    "\n",
    "print(\n",
    "    E(atoms, dihedrals, angles, bonds, neighbours, two_bonds_neigh, three_bonds_neigh, \n",
    "      num, nghb_d, nghb_a, nghb_b, nghb_nb, full=True)\n",
    ")\n",
    "\n",
    "# print(E(atoms, dihedrals, angles, bonds, neighbours, two_bonds_neigh, three_bonds_neigh,nm))\n",
    "for k in range(0, M):\n",
    "    atoms[nm][coor] = atoms[nm][coor] + h\n",
    "    EE = E(atoms, dihedrals, angles, bonds, neighbours, two_bonds_neigh, three_bonds_neigh, \n",
    "           num, nghb_d, nghb_a, nghb_b, nghb_nb, full=True) \n",
    "    # E(atoms, dihedrals, angles, bonds, neighbours, two_bonds_neigh, three_bonds_neigh,nm)\n",
    "    mmm.append(EE)\n",
    "    ccc.append(k*h)  \n",
    "\n",
    "import matplotlib.pyplot as plt\n",
    "plt.plot(ccc, mmm)\n",
    "plt.ylabel(r\"Изменение энергии\")\n",
    "plt.xlabel(r\"Изменение положения атома\")\n",
    "plt.grid(True)\n",
    "plt.show()\n",
    "    \n",
    "print(E(atoms, dihedrals, angles, bonds, neighbours, two_bonds_neigh, three_bonds_neigh, num, nghb_d, nghb_a, nghb_b, nghb_nb, full=True))\n",
    "\n",
    "# print(E(atoms, dihedrals, angles, bonds, neighbours, two_bonds_neigh, three_bonds_neigh,nm))"
   ]
  },
  {
   "cell_type": "code",
   "execution_count": 14,
   "metadata": {},
   "outputs": [
    {
     "name": "stdout",
     "output_type": "stream",
     "text": [
      "6.90602313923\n"
     ]
    }
   ],
   "source": [
    "print(E(atoms, dihedrals, angles, bonds, neighbours, two_bonds_neigh, three_bonds_neigh, 2))"
   ]
  },
  {
   "cell_type": "code",
   "execution_count": 47,
   "metadata": {},
   "outputs": [
    {
     "name": "stdout",
     "output_type": "stream",
     "text": [
      "4438.13048459\n",
      "4438.13048459\n"
     ]
    }
   ],
   "source": [
    "print(E(atoms, dihedrals, angles, bonds, neighbours, two_bonds_neigh, three_bonds_neigh, 140))\n",
    "atoms[140][0] = atoms[140][0] + 0.5\n",
    "print(E(atoms, dihedrals, angles, bonds, neighbours, two_bonds_neigh, three_bonds_neigh, 140))"
   ]
  },
  {
   "cell_type": "code",
   "execution_count": 59,
   "metadata": {},
   "outputs": [
    {
     "name": "stdout",
     "output_type": "stream",
     "text": [
      "[3 4 3]\n"
     ]
    }
   ],
   "source": [
    "a = np.array([1, 2, 3])\n",
    "b = np.array([3, 2, 1])\n",
    "print(a*b)"
   ]
  },
  {
   "cell_type": "code",
   "execution_count": 74,
   "metadata": {
    "collapsed": true
   },
   "outputs": [],
   "source": [
    "c = 10*[1, 1, 1]\n",
    "#c[2][3]=[4,5]"
   ]
  },
  {
   "cell_type": "code",
   "execution_count": 77,
   "metadata": {},
   "outputs": [
    {
     "ename": "TypeError",
     "evalue": "'int' object is not subscriptable",
     "traceback": [
      "\u001b[0;31m---------------------------------------------------------------------------\u001b[0m",
      "\u001b[0;31mTypeError\u001b[0m                                 Traceback (most recent call last)",
      "\u001b[0;32m<ipython-input-77-00fd0f5235d5>\u001b[0m in \u001b[0;36m<module>\u001b[0;34m()\u001b[0m\n\u001b[0;32m----> 1\u001b[0;31m \u001b[0mprint\u001b[0m\u001b[0;34m(\u001b[0m\u001b[0mc\u001b[0m\u001b[0;34m[\u001b[0m\u001b[0;36m5\u001b[0m\u001b[0;34m]\u001b[0m\u001b[0;34m[\u001b[0m\u001b[0;36m2\u001b[0m\u001b[0;34m]\u001b[0m\u001b[0;34m)\u001b[0m\u001b[0;34m\u001b[0m\u001b[0m\n\u001b[0m",
      "\u001b[0;31mTypeError\u001b[0m: 'int' object is not subscriptable"
     ],
     "output_type": "error"
    }
   ],
   "source": [
    "print(c[5][2])"
   ]
  },
  {
   "cell_type": "code",
   "execution_count": 101,
   "metadata": {},
   "outputs": [
    {
     "name": "stdout",
     "output_type": "stream",
     "text": [
      "True\n"
     ]
    }
   ],
   "source": [
    "def ff(f=True):\n",
    "    if f:\n",
    "        print(\"True\")\n",
    "    else:\n",
    "        print(\"False\")\n",
    "      \n",
    "        \n",
    "ff(f=True)"
   ]
  },
  {
   "cell_type": "code",
   "execution_count": 97,
   "metadata": {},
   "outputs": [
    {
     "name": "stdout",
     "output_type": "stream",
     "text": [
      "2\n"
     ]
    }
   ],
   "source": [
    "c = [1, 2, 3]\n",
    "[c1, c2, c3] = c\n",
    "\n",
    "print(c2)"
   ]
  },
  {
   "cell_type": "code",
   "execution_count": 102,
   "metadata": {},
   "outputs": [
    {
     "name": "stdout",
     "output_type": "stream",
     "text": [
      "-2\n",
      "-1\n",
      "0\n",
      "1\n"
     ]
    }
   ],
   "source": [
    "for k in range(-2, 2):\n",
    "    print(k)"
   ]
  },
  {
   "cell_type": "code",
   "execution_count": 107,
   "metadata": {},
   "outputs": [
    {
     "name": "stdout",
     "output_type": "stream",
     "text": [
      "5\n"
     ]
    }
   ],
   "source": [
    "print(L)"
   ]
  },
  {
   "cell_type": "code",
   "execution_count": 238,
   "metadata": {},
   "outputs": [
    {
     "name": "stdout",
     "output_type": "stream",
     "text": [
      "Энергия -169.7640675101076; Время (мин) 0.04665\n"
     ]
    },
    {
     "data": {
      "text/plain": [
       "0"
      ]
     },
     "execution_count": 238,
     "metadata": {},
     "output_type": "execute_result"
    }
   ],
   "source": [
    "time_start = millis()\n",
    "# число атомов в изучаемом белке\n",
    "l = len(atoms)\n",
    "# размеры шагов по ортам в ангстремах\n",
    "h = [0.02, 0.02, 0.02]\n",
    "# сколько шагов делаем вдоль каждого орта с учетом знака\n",
    "L = 5\n",
    "S = 0\n",
    "# размер окрестности атома, по которой честно суммируе\n",
    "r = 10\n",
    "atoms_old = atoms\n",
    "record = [0, 0, 0]\n",
    "num = 434  # pyrandom.randrange(0, l)\n",
    "nghb_d = nghb_dihedrals(dihedrals, num)\n",
    "nghb_a = nghb_angles(angles, num)\n",
    "nghb_b = nghb_bonds(bonds, num)\n",
    "nghb_nb = nghbnb(atoms, num, r)[0]\n",
    "nghbc = nghbnb(atoms, num, r)[1]\n",
    "[Cx, Cy, Cz] = coef_nb(atoms, num, nghbc)\n",
    "\n",
    "DE_elst = E_elst(atoms, neighbours, two_bonds_neigh, three_bonds_neigh, num) - \\\n",
    "          E_elst_m(atoms, neighbours, two_bonds_neigh, three_bonds_neigh, num, nghb_nb)\n",
    "\n",
    "E_old = E(atoms, dihedrals, angles, bonds, neighbours, two_bonds_neigh, three_bonds_neigh, \n",
    "          num, nghb_d, nghb_a, nghb_b, nghb_nb, full=True)\n",
    "\n",
    "E_record = E_old\n",
    "for px in range(-L, L + 1):\n",
    "    for py in range(-L, L + 1):\n",
    "        for pz in range(-L, L + 1):\n",
    "            atoms[num][1] = atoms_old[num][1] + px * h[0]\n",
    "            atoms[num][2] = atoms_old[num][2] + py * h[1]\n",
    "            atoms[num][3] = atoms_old[num][3] + pz * h[2]\n",
    "            E_new = DE_elst + Cx * px * h[0] + Cy * py * h[1] + Cz * pz * h[2] + E(atoms, dihedrals, angles, bonds,\n",
    "                                                                                   neighbours, two_bonds_neigh,\n",
    "                                                                                   three_bonds_neigh, num, nghb_d,\n",
    "                                                                                   nghb_a, nghb_b, nghb_nb, full=False)\n",
    "            #  \"-0.05\" чтобы не учитвать погрешности в аппроксимации\n",
    "            if E_new < E_record - 0.05:  \n",
    "                record = [px, py, pz]\n",
    "                E_record = E_new\n",
    "atoms = atoms_old\n",
    "atoms[num][1] = atoms_old[num][1] + record[0] * h[0]\n",
    "atoms[num][2] = atoms_old[num][2] + record[1] * h[1]\n",
    "atoms[num][3] = atoms_old[num][3] + record[2] * h[2]\n",
    "\n",
    "time_now = millis()\n",
    "tm = (time_now - time_start) / 60000\n",
    "\n",
    "ETRUE = E(atoms, dihedrals, angles, bonds, neighbours, two_bonds_neigh, three_bonds_neigh, num, nghb_d, nghb_a, nghb_b,\n",
    "          nghb_nb, full=True)\n",
    "DE = ETRUE - E_old\n",
    "\n",
    "print(\"Энергия {}; Время (мин) {}\".format(DE, tm))\n",
    "k = 0\n",
    "prp_atm(atoms, k)\n",
    "os.system('./to-pdb atoms_out' + str(k) + '.csv output' + str(k) + '.pdb')"
   ]
  },
  {
   "cell_type": "code",
   "execution_count": 229,
   "metadata": {},
   "outputs": [
    {
     "name": "stdout",
     "output_type": "stream",
     "text": [
      "[998, 999, 1000, 1076, 1077, 1078, 1086, 1087, 1088, 1274, 1275, 1276, 1297, 1298, 1299, 1329, 1330, 1331, 1347, 1348, 1349]\n",
      "[692, 738, 739, 746, 747, 757, 876, 877, 878, 896, 916, 931]\n",
      "[420, 421, 422, 497]\n",
      "[98, 112, 114, 125, 132, 162, 163, 167, 168, 172, 174, 176, 177, 188, 194, 198, 202, 203, 204, 206, 207, 208, 209, 210, 211, 215, 217, 218, 223, 225, 226, 230, 233, 236, 239, 243, 255, 257, 258, 259, 261, 263, 267, 268, 270, 271, 272, 273, 276, 278, 280, 282, 283, 286, 288, 291, 294, 295, 298, 300, 301, 303, 304, 305, 309, 310, 311, 312, 313, 317, 319, 320, 321, 324, 325, 327, 328, 331, 332, 333, 339, 340, 341, 343, 344, 346, 348, 349, 351, 354, 355, 360, 362, 365, 368, 371, 373, 376, 379, 382, 384, 386, 387, 391, 392, 393, 396, 399, 400, 402, 404, 405, 406, 407, 408, 410, 412, 415, 416, 422, 424, 425, 426, 428, 431, 432, 434, 436, 437, 438, 439, 441, 444, 449, 453, 454, 471, 472, 474, 475, 478, 482, 487, 490, 492, 496, 498, 503, 504, 509, 511, 512, 513, 514, 515, 516, 517, 520, 521, 522, 524, 525, 527, 528, 530, 532, 534, 535, 537, 541, 543, 546, 554, 559, 560, 562, 564, 567, 568, 569, 571, 576, 582, 586, 588, 593, 597, 601, 612, 617, 619, 620, 621, 626, 631, 633, 636, 638, 639, 642, 647, 649, 652, 658, 664, 675, 678, 679, 680, 681, 682, 687, 689, 691, 692, 697, 698, 700, 702, 705, 707, 709, 712, 728, 731, 732, 733, 737, 740, 741, 742, 743, 746, 747, 750, 752, 760, 761, 762, 767, 769, 770, 772, 775, 776, 778, 779, 780, 781, 782, 790, 792, 795, 796, 798, 801, 803, 806, 811, 813, 816, 817, 821, 823, 826, 827, 829, 830, 836, 838, 840, 843, 844, 847, 849, 852, 853, 856, 859, 861, 866, 870, 877, 881, 886, 890, 891, 896, 902, 905, 907, 909, 910, 915, 920, 924, 926, 936, 941, 947, 952, 963, 964, 971, 972, 973, 975, 979, 980, 981, 985, 992, 994, 998, 1000, 1006, 1008, 1011, 1012, 1014, 1016, 1018, 1025, 1028, 1030, 1035, 1036, 1043, 1047, 1049, 1051, 1052, 1064, 1066, 1068, 1072]\n",
      "[-0.64841176096345898, -0.34487661167721234, -0.3806453116840201]\n"
     ]
    }
   ],
   "source": [
    "print(nghb_d)\n",
    "print(nghb_a)\n",
    "print(nghb_b)\n",
    "print(nghb_nb)\n",
    "# print(nghbc)\n",
    "print([Cx, Cy, Cz])"
   ]
  },
  {
   "cell_type": "code",
   "execution_count": 164,
   "metadata": {},
   "outputs": [
    {
     "name": "stdout",
     "output_type": "stream",
     "text": [
      "[5 5 5]\n"
     ]
    }
   ],
   "source": [
    "def dgdfg(nghbc):\n",
    "    E = np.array([0, 0, 0])\n",
    "    for j in nghbc:\n",
    "        r = np.array([1, 1, 1])\n",
    "        E[0] = E[0] + r[0]\n",
    "        E[1] = E[1] + r[1]\n",
    "        E[2] = E[2] + r[2]\n",
    "    return E\n",
    "\n",
    "\n",
    "nghbc = [1, 2, 3, 4, 76]\n",
    "print(dgdfg(nghbc))\n"
   ]
  },
  {
   "cell_type": "code",
   "execution_count": 212,
   "metadata": {},
   "outputs": [
    {
     "name": "stdout",
     "output_type": "stream",
     "text": [
      "0.0\n",
      "1.63332281568e-05\n",
      "1.63332281568e-05\n",
      "0.022693184179\n",
      "0.022693184179\n"
     ]
    }
   ],
   "source": [
    "E = np.array([0.0, 0.0, 0.0])\n",
    "print(E[0])\n",
    "\n",
    "i = 5\n",
    "j = 8\n",
    "r = np.array(atoms[j][1:4]) - np.array(atoms[i][1:4])\n",
    "ccc = atoms[i][6] * atoms[j][6] * (atoms[j][1] - atoms[i][1]) / pow(np.linalg.norm(r), 3)\n",
    "print(ccc)\n",
    "\n",
    "E[0] = E[0] + ccc \n",
    "print(E[0])\n",
    "print(E[0] * 1389.38757)\n",
    "print(ccc * 1389.38757)"
   ]
  },
  {
   "cell_type": "code",
   "execution_count": 175,
   "metadata": {},
   "outputs": [
    {
     "name": "stdout",
     "output_type": "stream",
     "text": [
      "0.022693184179\n"
     ]
    }
   ],
   "source": [
    "print(\n",
    "    (E[0] + atoms[i][6] * atoms[j][6] * (atoms[j][1] - atoms[i][1]) / pow(np.linalg.norm(r), 3)) \n",
    "    * \n",
    "    1389.38757\n",
    ")"
   ]
  },
  {
   "cell_type": "code",
   "execution_count": 210,
   "metadata": {},
   "outputs": [
    {
     "name": "stdout",
     "output_type": "stream",
     "text": [
      "[  0.00000000e+00   1.63332282e-05   0.00000000e+00]\n"
     ]
    }
   ],
   "source": [
    "y = np.array([0.0, 0.0, 0.0])\n",
    "y[1] = y[1] + ccc\n",
    "print(y)\n"
   ]
  },
  {
   "cell_type": "code",
   "execution_count": 239,
   "metadata": {},
   "outputs": [
    {
     "name": "stdout",
     "output_type": "stream",
     "text": [
      "-0.0945943788217\n"
     ]
    }
   ],
   "source": [
    "num = 434\n",
    "Delta = E_vdw(atoms, neighbours, two_bonds_neigh, three_bonds_neigh, num) - \\\n",
    "        E_vdw_m(atoms, neighbours, two_bonds_neigh, three_bonds_neigh, num, nghb_nb)\n",
    "\n",
    "#print(nghb_nb)\n",
    "print (Delta)"
   ]
  },
  {
   "cell_type": "code",
   "execution_count": 249,
   "metadata": {
    "collapsed": true
   },
   "outputs": [],
   "source": [
    "aa = DE_elst + \\\n",
    "     Cx*px*h[0] + Cy*py*h[1] + Cz*pz*h[2] + \\\n",
    "     E(atoms, dihedrals, angles, bonds, neighbours, two_bonds_neigh, \n",
    "       three_bonds_neigh, num, nghb_d, nghb_a, nghb_b, nghb_nb, full=False)"
   ]
  },
  {
   "cell_type": "code",
   "execution_count": 250,
   "metadata": {
    "collapsed": true
   },
   "outputs": [],
   "source": [
    "bb = E(atoms, dihedrals, angles, bonds, neighbours, two_bonds_neigh, \n",
    "       three_bonds_neigh, num, nghb_d, nghb_a, nghb_b, nghb_nb, full=True)"
   ]
  },
  {
   "cell_type": "code",
   "execution_count": 254,
   "metadata": {},
   "outputs": [
    {
     "data": {
      "text/plain": [
       "1.0280167218129463"
      ]
     },
     "execution_count": 254,
     "metadata": {},
     "output_type": "execute_result"
    }
   ],
   "source": [
    "bb - aa"
   ]
  },
  {
   "cell_type": "code",
   "execution_count": 252,
   "metadata": {},
   "outputs": [
    {
     "data": {
      "text/plain": [
       "3.2317934304534361"
      ]
     },
     "execution_count": 252,
     "metadata": {},
     "output_type": "execute_result"
    }
   ],
   "source": [
    "DE_elst"
   ]
  },
  {
   "cell_type": "code",
   "execution_count": null,
   "metadata": {
    "collapsed": true
   },
   "outputs": [],
   "source": []
  }
 ],
 "metadata": {
  "kernelspec": {
   "display_name": "Python 3",
   "language": "python",
   "name": "python3"
  },
  "language_info": {
   "codemirror_mode": {
    "name": "ipython",
    "version": 3
   },
   "file_extension": ".py",
   "mimetype": "text/x-python",
   "name": "python",
   "nbconvert_exporter": "python",
   "pygments_lexer": "ipython3",
   "version": "3.6.1"
  }
 },
 "nbformat": 4,
 "nbformat_minor": 2
}
