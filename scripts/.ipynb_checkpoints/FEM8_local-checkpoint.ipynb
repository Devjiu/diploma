{
 "cells": [
  {
   "cell_type": "code",
   "execution_count": 1,
   "metadata": {
    "collapsed": false
   },
   "outputs": [
    {
     "ename": "NameError",
     "evalue": "name 'np' is not defined",
     "traceback": [
      "\u001b[1;31m---------------------------------------------------------------------------\u001b[0m",
      "\u001b[1;31mNameError\u001b[0m                                 Traceback (most recent call last)",
      "\u001b[1;32m<ipython-input-1-2c681b93ecd7>\u001b[0m in \u001b[0;36m<module>\u001b[1;34m()\u001b[0m\n\u001b[0;32m      1\u001b[0m \u001b[1;32mimport\u001b[0m \u001b[0mmath\u001b[0m\u001b[1;33m\u001b[0m\u001b[0m\n\u001b[0;32m      2\u001b[0m \u001b[1;33m\u001b[0m\u001b[0m\n\u001b[1;32m----> 3\u001b[1;33m \u001b[0minitial_coef\u001b[0m \u001b[1;33m=\u001b[0m \u001b[0mnp\u001b[0m\u001b[1;33m.\u001b[0m\u001b[0marray\u001b[0m\u001b[1;33m(\u001b[0m\u001b[1;33m[\u001b[0m\u001b[1;36m1.0\u001b[0m\u001b[1;33m,\u001b[0m \u001b[1;36m1.0\u001b[0m\u001b[1;33m,\u001b[0m \u001b[1;36m1.0\u001b[0m\u001b[1;33m]\u001b[0m\u001b[1;33m,\u001b[0m  \u001b[0mdtype\u001b[0m\u001b[1;33m=\u001b[0m\u001b[0mnp\u001b[0m\u001b[1;33m.\u001b[0m\u001b[0mfloat64\u001b[0m\u001b[1;33m)\u001b[0m\u001b[1;33m\u001b[0m\u001b[0m\n\u001b[0m\u001b[0;32m      4\u001b[0m \u001b[1;32mprint\u001b[0m\u001b[1;33m(\u001b[0m\u001b[1;34m\"Initial structure: a   = %f,   b = %f,   c = %f\"\u001b[0m \u001b[1;33m%\u001b[0m \u001b[1;33m(\u001b[0m\u001b[0minitial_coef\u001b[0m\u001b[1;33m[\u001b[0m\u001b[1;36m0\u001b[0m\u001b[1;33m]\u001b[0m\u001b[1;33m,\u001b[0m \u001b[0minitial_coef\u001b[0m\u001b[1;33m[\u001b[0m\u001b[1;36m1\u001b[0m\u001b[1;33m]\u001b[0m\u001b[1;33m,\u001b[0m \u001b[0minitial_coef\u001b[0m\u001b[1;33m[\u001b[0m\u001b[1;36m2\u001b[0m\u001b[1;33m]\u001b[0m\u001b[1;33m)\u001b[0m\u001b[1;33m)\u001b[0m\u001b[1;33m\u001b[0m\u001b[0m\n\u001b[0;32m      5\u001b[0m \u001b[1;33m\u001b[0m\u001b[0m\n",
      "\u001b[1;31mNameError\u001b[0m: name 'np' is not defined"
     ],
     "output_type": "error"
    }
   ],
   "source": [
    "import math\n",
    "\n",
    "initial_coef = np.array([1.0, 1.0, 1.0],  dtype=np.float64)\n",
    "print(\"Initial structure: a   = %f,   b = %f,   c = %f\" % (initial_coef[0], initial_coef[1], initial_coef[2]))\n",
    "\n",
    "parabola_arg = np.array([1.0, 2.0, 3.0],  dtype=np.float64)\n",
    "print(\"Initial arguments: x_1 = %f, x_2 = %f, x_3 = %f\" % (parabola_arg[0], parabola_arg[1], parabola_arg[2]))\n",
    "\n",
    "\n",
    "def parabola(x):\n",
    "    return initial_coef[0]*(x**2) + initial_coef[1]*x + initial_coef[2]\n",
    "\n",
    "\n",
    "candidates = np.array([ parabola(parabola_arg[0]), parabola(parabola_arg[1]), parabola(parabola_arg[2])],  dtype=np.float64)    \n",
    "print(\"Initial parabola value: d_1 = %f, d_2 = %f, d_3 = %f\" % (candidates[0], candidates[1], candidates[2]))\n",
    "parabola_coefficients = {'a': 0.0, 'b': 0.0, 'c': 0.0}\n",
    "# print(parabola_arg)\n",
    "denominator = \\\n",
    "    parabola_arg[0] * np.power(parabola_arg[1], 2) - np.power(parabola_arg[0], 2) * parabola_arg[1] \\\n",
    "    - parabola_arg[0] * np.power(parabola_arg[2], 2) + parabola_arg[1] * np.power(parabola_arg[2], 2) \\\n",
    "    + np.power(parabola_arg[0], 2) * parabola_arg[2] - np.power(parabola_arg[1], 2) * parabola_arg[2]\n",
    "\n",
    "parabola_coefficients['a'] = \\\n",
    "    - parabola_arg[1] * candidates[0] + parabola_arg[2] * candidates[0] \\\n",
    "    + parabola_arg[0] * candidates[1] - parabola_arg[2] * candidates[1] \\\n",
    "    - parabola_arg[0] * candidates[2] + parabola_arg[1] * candidates[2]\n",
    "\n",
    "parabola_coefficients['b'] = \\\n",
    "    np.power(parabola_arg[1], 2) * candidates[0] - np.power(parabola_arg[2], 2) * candidates[0] \\\n",
    "    - np.power(parabola_arg[0], 2) * candidates[1] + np.power(parabola_arg[2], 2) * candidates[1] \\\n",
    "    + np.power(parabola_arg[0], 2) * candidates[2] - np.power(parabola_arg[1], 2) * candidates[2]\n",
    "\n",
    "parabola_coefficients['c'] = \\\n",
    "    parabola_arg[1] * np.power(parabola_arg[2], 2) * candidates[0] - np.power(parabola_arg[1], 2) * parabola_arg[2] * candidates[0] \\\n",
    "    - parabola_arg[0] * np.power(parabola_arg[2], 2) * candidates[1] + np.power(parabola_arg[0], 2) * parabola_arg[2] * candidates[1] \\\n",
    "    + parabola_arg[0] * np.power(parabola_arg[1], 2) * candidates[2] - np.power(parabola_arg[0], 2) * parabola_arg[1] * candidates[2]\n",
    "\n",
    "print(\"Counted fraction value: a = %f/%f, b = %f/%f, c = %f/%f\" % (parabola_coefficients['a'], denominator, parabola_coefficients['b'], denominator, parabola_coefficients['c'], denominator))\n",
    "skip = False\n",
    "for coef in parabola_coefficients:\n",
    "    parabola_coefficients[coef] = parabola_coefficients[coef] / denominator\n",
    "    if not math.isnan(parabola_coefficients[coef]):\n",
    "        print(\"Resulting coefficients \", coef, \": \", parabola_coefficients[coef])\n",
    "    else:\n",
    "        skip = True\n"
   ]
  },
  {
   "cell_type": "code",
   "execution_count": 4,
   "metadata": {
    "collapsed": false
   },
   "outputs": [
    {
     "ename": "IOError",
     "evalue": "[Errno 2] No such file or directory: 'D:\\\\python_proj\\\\data\\\\atoms.txt'",
     "traceback": [
      "\u001b[1;31m---------------------------------------------------------------------------\u001b[0m",
      "\u001b[1;31mIOError\u001b[0m                                   Traceback (most recent call last)",
      "\u001b[1;32m<ipython-input-4-ad72871a3b99>\u001b[0m in \u001b[0;36m<module>\u001b[1;34m()\u001b[0m\n\u001b[0;32m     12\u001b[0m \u001b[1;31m# радиус Ван-дер-Ваальса, объём и еще две колонки типа строки;\u001b[0m\u001b[1;33m\u001b[0m\u001b[1;33m\u001b[0m\u001b[0m\n\u001b[0;32m     13\u001b[0m \u001b[1;31m# радиус и объем и эти две колонки не используются далее\u001b[0m\u001b[1;33m\u001b[0m\u001b[1;33m\u001b[0m\u001b[0m\n\u001b[1;32m---> 14\u001b[1;33m \u001b[0matoms\u001b[0m \u001b[1;33m=\u001b[0m \u001b[0mrd\u001b[0m\u001b[1;33m(\u001b[0m\u001b[1;34m'atoms.txt'\u001b[0m\u001b[1;33m,\u001b[0m \u001b[1;36m1\u001b[0m\u001b[1;33m,\u001b[0m \u001b[1;36m9\u001b[0m\u001b[1;33m)\u001b[0m  \u001b[1;31m# вместо 9 можно было и 7 взять\u001b[0m\u001b[1;33m\u001b[0m\u001b[0m\n\u001b[0m\u001b[0;32m     15\u001b[0m \u001b[1;33m\u001b[0m\u001b[0m\n\u001b[0;32m     16\u001b[0m \u001b[1;31m# bonds.txt Содержит информацию о связях, структура файла:\u001b[0m\u001b[1;33m\u001b[0m\u001b[1;33m\u001b[0m\u001b[0m\n",
      "\u001b[1;32mD:\\python_proj\\diploma\\parse_input\\__init__.pyc\u001b[0m in \u001b[0;36mrd\u001b[1;34m(name_of_file, m, M)\u001b[0m\n\u001b[0;32m     17\u001b[0m         \u001b[1;32mprint\u001b[0m\u001b[1;33m(\u001b[0m\u001b[0mscript_dir\u001b[0m\u001b[1;33m)\u001b[0m\u001b[1;33m\u001b[0m\u001b[0m\n\u001b[0;32m     18\u001b[0m         \u001b[0mabs_file_path\u001b[0m \u001b[1;33m=\u001b[0m \u001b[0mos\u001b[0m\u001b[1;33m.\u001b[0m\u001b[0mpath\u001b[0m\u001b[1;33m.\u001b[0m\u001b[0mabspath\u001b[0m\u001b[1;33m(\u001b[0m\u001b[0mos\u001b[0m\u001b[1;33m.\u001b[0m\u001b[0mpath\u001b[0m\u001b[1;33m.\u001b[0m\u001b[0mjoin\u001b[0m\u001b[1;33m(\u001b[0m\u001b[0mscript_dir\u001b[0m\u001b[1;33m,\u001b[0m \u001b[1;34m\"data\"\u001b[0m\u001b[1;33m,\u001b[0m \u001b[0mname_of_file\u001b[0m\u001b[1;33m)\u001b[0m\u001b[1;33m)\u001b[0m\u001b[1;33m\u001b[0m\u001b[0m\n\u001b[1;32m---> 19\u001b[1;33m         \u001b[1;32mreturn\u001b[0m \u001b[0mabs_file_path\u001b[0m\u001b[1;33m\u001b[0m\u001b[0m\n\u001b[0m\u001b[0;32m     20\u001b[0m     \u001b[0mabsolute_path\u001b[0m \u001b[1;33m=\u001b[0m \u001b[0mpath_to_resources\u001b[0m\u001b[1;33m(\u001b[0m\u001b[0mname_of_file\u001b[0m\u001b[1;33m)\u001b[0m\u001b[1;33m\u001b[0m\u001b[0m\n\u001b[0;32m     21\u001b[0m     \u001b[1;32mwith\u001b[0m \u001b[0mopen\u001b[0m\u001b[1;33m(\u001b[0m\u001b[0mabsolute_path\u001b[0m\u001b[1;33m)\u001b[0m \u001b[1;32mas\u001b[0m \u001b[0mf\u001b[0m\u001b[1;33m:\u001b[0m\u001b[1;33m\u001b[0m\u001b[0m\n",
      "\u001b[1;31mIOError\u001b[0m: [Errno 2] No such file or directory: 'D:\\\\python_proj\\\\data\\\\atoms.txt'"
     ],
     "output_type": "error"
    }
   ],
   "source": [
    "import numpy as np\n",
    "import random as pyrandom\n",
    "import sys, os\n",
    "nb_dir = os.path.split(os.getcwd())[0]\n",
    "if nb_dir not in sys.path:\n",
    "    sys.path.append(nb_dir)\n",
    "from parse_input import *\n",
    "\n",
    "\n",
    "# atoms.txt Содержит информацию об атомах, в колонках следующие данные:\n",
    "# ID, x, y, z, сигма, эпсилон, заряд, \n",
    "# радиус Ван-дер-Ваальса, объём и еще две колонки типа строки; \n",
    "# радиус и объем и эти две колонки не используются далее\n",
    "atoms = rd('atoms.txt', 1, 9)  # вместо 9 можно было и 7 взять\n",
    "\n",
    "# bonds.txt Содержит информацию о связях, структура файла:\n",
    "# ID1, ID2, Kr, r0\n",
    "bonds = rd('bonds.txt', 2)\n",
    "\n",
    "# angles.txt Содержит информацию об углах, структура файла:\n",
    "# ID1, ID2, ID3, Kt, theta0\n",
    "angles = rd('angles.txt', 3)\n",
    "\n",
    "# dihedrals.txt Содержит информацию о двугранных углах, структура:\n",
    "# ID1, ID2, ID3, ID4, V1, V2, V3, V4\n",
    "# Все константы V1, V2, V3, V4 разделены на два, \n",
    "# при вычислении энергии делить их на два НЕ НАДО.\n",
    "dihedrals = rd('dihedrals.txt', 4)\n",
    "\n",
    "# neighbours.txt, two_bonds_neigh.txt, three_bonds_neigh.txt\n",
    "# Содержат информацию о соседях непосредственных, \n",
    "# второго и третьего порядка соответственно. \n",
    "# У всех одна и та же структура:\n",
    "# ID    id_1 id_2 ... id_n\n",
    "# ID – индекс атома, id_1 id_2 ... id_n – индексы его соседей.\n",
    "neighbours = rd('neighbours.txt')\n",
    "two_bonds_neigh = rd('two_bonds_neigh.txt')\n",
    "\n",
    "three_bonds_neigh = rd('three_bonds_neigh.txt')\n"
   ]
  },
  {
   "cell_type": "code",
   "execution_count": 3,
   "metadata": {
    "collapsed": true,
    "scrolled": true
   },
   "outputs": [
    {
     "ename": "NameError",
     "evalue": "name 'tmp' is not defined",
     "traceback": [
      "\u001b[1;31m---------------------------------------------------------------------------\u001b[0m",
      "\u001b[1;31mNameError\u001b[0m                                 Traceback (most recent call last)",
      "\u001b[1;32m<ipython-input-3-a711fd65b025>\u001b[0m in \u001b[0;36m<module>\u001b[1;34m()\u001b[0m\n\u001b[0;32m     42\u001b[0m \u001b[1;33m\u001b[0m\u001b[0m\n\u001b[0;32m     43\u001b[0m         \u001b[1;32mfor\u001b[0m \u001b[0mindent\u001b[0m \u001b[1;32min\u001b[0m \u001b[1;33m[\u001b[0m\u001b[1;33m-\u001b[0m\u001b[1;36m1\u001b[0m\u001b[1;33m,\u001b[0m \u001b[1;36m0\u001b[0m\u001b[1;33m,\u001b[0m \u001b[1;36m1\u001b[0m\u001b[1;33m]\u001b[0m\u001b[1;33m:\u001b[0m\u001b[1;33m\u001b[0m\u001b[0m\n\u001b[1;32m---> 44\u001b[1;33m             \u001b[0mparabola_arg\u001b[0m\u001b[1;33m[\u001b[0m\u001b[1;36m1\u001b[0m \u001b[1;33m+\u001b[0m \u001b[0mindent\u001b[0m\u001b[1;33m]\u001b[0m \u001b[1;33m=\u001b[0m \u001b[0mnp\u001b[0m\u001b[1;33m.\u001b[0m\u001b[0mfloat64\u001b[0m\u001b[1;33m(\u001b[0m\u001b[0mtmp\u001b[0m \u001b[1;33m+\u001b[0m \u001b[0mindent\u001b[0m \u001b[1;33m*\u001b[0m \u001b[0mh\u001b[0m\u001b[1;33m[\u001b[0m\u001b[1;36m0\u001b[0m\u001b[1;33m]\u001b[0m\u001b[1;33m)\u001b[0m\u001b[1;33m\u001b[0m\u001b[0m\n\u001b[0m\u001b[0;32m     45\u001b[0m             \u001b[0matoms\u001b[0m\u001b[1;33m[\u001b[0m\u001b[0mnum\u001b[0m\u001b[1;33m]\u001b[0m\u001b[1;33m[\u001b[0m\u001b[0mwhere\u001b[0m\u001b[1;33m]\u001b[0m \u001b[1;33m=\u001b[0m \u001b[0mprev\u001b[0m \u001b[1;33m+\u001b[0m \u001b[0mindent\u001b[0m \u001b[1;33m*\u001b[0m \u001b[0mh\u001b[0m\u001b[1;33m[\u001b[0m\u001b[1;36m0\u001b[0m\u001b[1;33m]\u001b[0m\u001b[1;33m\u001b[0m\u001b[0m\n\u001b[0;32m     46\u001b[0m             candidates[1 + indent] = DE_elst + c * indent * h[0] +                                      E(atoms, dihedrals, angles, bonds, neighbours, two_bonds_neigh,\n",
      "\u001b[1;31mNameError\u001b[0m: name 'tmp' is not defined"
     ],
     "output_type": "error"
    }
   ],
   "source": [
    "from output import *\n",
    "from energy import *\n",
    "from itertools import cycle\n",
    "\n",
    "N = 2000  # 10000 # число итераций\n",
    "l = len(atoms)  # число атомов в изучаемом белке\n",
    "h = [0.02, 0.02, 0.02]  # размеры шагов по ортам в ангстремах\n",
    "L = 3  # сколько шагов делаем вдоль каждого орта с учетом знака\n",
    "S = 0\n",
    "r = 10  # размер окрестности атома, по которой честно суммируем\n",
    "M = 1000  # параметр, отвечающий за частоту вывода и сохранения информации\n",
    "mas = []\n",
    "tt = []\n",
    "time_start = millis()\n",
    "\n",
    "for k in range(0, N):\n",
    "    atoms_old = atoms\n",
    "    record = [0, 0, 0]\n",
    "    num = pyrandom.randrange(0, l)\n",
    "    nghb_d = nghb_dihedrals(dihedrals, num)\n",
    "    nghb_a = nghb_angles(angles, num)\n",
    "    nghb_b = nghb_bonds(bonds, num)\n",
    "    nghb_nb = nghbnb(atoms, num, r)[0]\n",
    "    nghbc = nghbnb(atoms, num, r)[1]\n",
    "    [Cx, Cy, Cz] = coef_nb(atoms, num, nghbc)\n",
    "    DE_elst = E_elst(atoms, neighbours, two_bonds_neigh, three_bonds_neigh, num) - \\\n",
    "          E_elst_m(atoms, neighbours, two_bonds_neigh, three_bonds_neigh, num, nghb_nb)    \n",
    "    E_old = E(atoms, dihedrals, angles, bonds, neighbours, two_bonds_neigh,\n",
    "              three_bonds_neigh, num, nghb_d, nghb_a, nghb_b, nghb_nb, full=True)\n",
    "    E_record = E_old\n",
    "\n",
    "    candidates = np.array([0.0, 0.0, 0.0], dtype=np.float64)\n",
    "    parabola_arg = np.array([0.0, 0.0, 0.0], dtype=np.float64)\n",
    "\n",
    "    coefs = [Cx, Cy, Cz]\n",
    "    coors = [1, 2, 3]\n",
    "\n",
    "    possibilities = [[0,0,0], [0,0,0]]\n",
    "    \n",
    "    for ort in range(3):\n",
    "        c = coefs[ort]\n",
    "        where = coors[ort]\n",
    "        \n",
    "        prev = atoms_old[num][where]\n",
    "        \n",
    "        for indent in [-1, 0, 1]:\n",
    "            parabola_arg[1 + indent] = np.float64(tmp + indent * h[ort])\n",
    "            atoms[num][where] = prev + indent * h[ort]\n",
    "            candidates[1 + indent] = DE_elst + c * indent * h[0] + \\\n",
    "                                     E(atoms, dihedrals, angles, bonds, neighbours, two_bonds_neigh,\n",
    "                                       three_bonds_neigh, num, nghb_d, nghb_a, nghb_b, nghb_nb, full=False)\n",
    "                \n",
    "            print(\" \\tatom: \", tmp, \" point: \", np.float64(tmp + indent * h[0]), \\\n",
    "                  \"\\n \\tenergy: \", candidates[1 + indent], \" DE_elst: \", DE_elst, \" C: \", )\n",
    "        \n",
    "        ret = suppose_parabola(parabola_arg, candidates)\n",
    "        possbilities[0][]\n",
    "        print(\"E_new: \", E_new, \" E_old: \", E_old)\n",
    "\n",
    "        print(\"Suppose minimum: \", E_new)\n",
    "        if E_new > candidates[0] or E_new > candidates[1] or E_new > candidates[2] or np.isnan(E_new):\n",
    "            print(\"Parabola is not at minimum.\")\n",
    "            E_new = np.min(candidates)\n",
    "            print(\"Actual minimum: \", E_new)\n",
    "            ind = np.where(candidates == E_new)[0]\n",
    "            if len(ind) != 1:\n",
    "                if np.isnan(ind[0]):\n",
    "                    ind = 0\n",
    "                else:\n",
    "                    ind = ind[0]\n",
    "            direction = int(ind)\n",
    "            h[direction] += h[direction]\n",
    "            atoms[num][direction] = atoms_old[num][direction] + parabola_min_arg * h[where]\n",
    "        else:\n",
    "            atoms[num][where] = atoms_old[num][where] + parabola_min_arg * h[where]\n",
    "    \n",
    "    print(\"\\nE_new: \", E_new, \"\\tE_old: \", E_old, \"\\tDE_elst: \", DE_elst)\n",
    "    #  \"-0.2\" чтобы не учитвать погрешности в аппроксимации\n",
    "    if E_new < E_record:\n",
    "        # record = [px, py, pz]\n",
    "        E_record = E_new\n",
    "\n",
    "    S = S + E_old - E_record\n",
    "    mas.append(S)\n",
    "    time_now = millis()\n",
    "    ttm = (time_now - time_start) / 60000\n",
    "    tt.append(ttm)\n",
    "\n",
    "    # это просто печать результатов в файлы и отображения хода работы метода\n",
    "    if k/M == int(k/M):\n",
    "        # prp_atm(atoms, k)\n",
    "        # os.system('./to-pdb atoms_out' + str(k) + '.csv output' + str(k) + '.pdb')\n",
    "        time_now = millis()\n",
    "        tm = (time_now - time_start)/60000\n",
    "        print(\"################################\")\n",
    "        print(\"Число итераций {}; Энергия {}; Время (мин) {}\".format(k, S, tm))\n",
    "        print(\"################################\\n\")\n",
    "        \n",
    "print(S)"
   ]
  },
  {
   "cell_type": "code",
   "execution_count": 1,
   "metadata": {
    "collapsed": false
   },
   "outputs": [
    {
     "ename": "ImportError",
     "evalue": "No module named matplotlib.pyplot",
     "traceback": [
      "\u001b[1;31m---------------------------------------------------------------------------\u001b[0m",
      "\u001b[1;31mImportError\u001b[0m                               Traceback (most recent call last)",
      "\u001b[1;32m<ipython-input-1-c0a6d46a209a>\u001b[0m in \u001b[0;36m<module>\u001b[1;34m()\u001b[0m\n\u001b[1;32m----> 1\u001b[1;33m \u001b[1;32mimport\u001b[0m \u001b[0mmatplotlib\u001b[0m\u001b[1;33m.\u001b[0m\u001b[0mpyplot\u001b[0m \u001b[1;32mas\u001b[0m \u001b[0mplt\u001b[0m\u001b[1;33m\u001b[0m\u001b[0m\n\u001b[0m\u001b[0;32m      2\u001b[0m \u001b[1;33m\u001b[0m\u001b[0m\n\u001b[0;32m      3\u001b[0m \u001b[0mmmas\u001b[0m \u001b[1;33m=\u001b[0m \u001b[1;33m-\u001b[0m \u001b[0mnp\u001b[0m\u001b[1;33m.\u001b[0m\u001b[0marray\u001b[0m\u001b[1;33m(\u001b[0m\u001b[0mmas\u001b[0m\u001b[1;33m)\u001b[0m\u001b[1;33m\u001b[0m\u001b[0m\n\u001b[0;32m      4\u001b[0m \u001b[1;33m\u001b[0m\u001b[0m\n\u001b[0;32m      5\u001b[0m \u001b[0mplt\u001b[0m\u001b[1;33m.\u001b[0m\u001b[0mplot\u001b[0m\u001b[1;33m(\u001b[0m\u001b[0mtt\u001b[0m\u001b[1;33m,\u001b[0m \u001b[0mmmas\u001b[0m\u001b[1;33m)\u001b[0m\u001b[1;33m\u001b[0m\u001b[0m\n",
      "\u001b[1;31mImportError\u001b[0m: No module named matplotlib.pyplot"
     ],
     "output_type": "error"
    }
   ],
   "source": [
    "import matplotlib.pyplot as plt\n",
    "\n",
    "mmas = - np.array(mas)\n",
    "\n",
    "plt.plot(tt, mmas)\n",
    "plt.xlabel(r\"Время работы программы в минутах\")\n",
    "plt.ylabel(r\"$\\Delta E$\")\n",
    "plt.grid(True)\n",
    "# plt.interactive(False)\n",
    "plt.show()"
   ]
  },
  {
   "cell_type": "code",
   "execution_count": 40,
   "metadata": {},
   "outputs": [
    {
     "name": "stdout",
     "output_type": "stream",
     "text": [
      "0.5463493965623099\n"
     ]
    },
    {
     "ename": "NameError",
     "evalue": "name 'nm' is not defined",
     "traceback": [
      "\u001b[1;31m---------------------------------------------------------------------------\u001b[0m",
      "\u001b[1;31mNameError\u001b[0m                                 Traceback (most recent call last)",
      "\u001b[1;32m<ipython-input-40-c9ab5a9006ec>\u001b[0m in \u001b[0;36m<module>\u001b[1;34m()\u001b[0m\n\u001b[0;32m     13\u001b[0m \u001b[1;31m# print(E(atoms, dihedrals, angles, bonds, neighbours, two_bonds_neigh, three_bonds_neigh,nm))\u001b[0m\u001b[1;33m\u001b[0m\u001b[1;33m\u001b[0m\u001b[0m\n\u001b[0;32m     14\u001b[0m \u001b[1;32mfor\u001b[0m \u001b[0mk\u001b[0m \u001b[1;32min\u001b[0m \u001b[0mrange\u001b[0m\u001b[1;33m(\u001b[0m\u001b[1;36m0\u001b[0m\u001b[1;33m,\u001b[0m \u001b[0mM\u001b[0m\u001b[1;33m)\u001b[0m\u001b[1;33m:\u001b[0m\u001b[1;33m\u001b[0m\u001b[0m\n\u001b[1;32m---> 15\u001b[1;33m     \u001b[0matoms\u001b[0m\u001b[1;33m[\u001b[0m\u001b[0mnm\u001b[0m\u001b[1;33m]\u001b[0m\u001b[1;33m[\u001b[0m\u001b[0mcoor\u001b[0m\u001b[1;33m]\u001b[0m \u001b[1;33m=\u001b[0m \u001b[0matoms\u001b[0m\u001b[1;33m[\u001b[0m\u001b[0mnm\u001b[0m\u001b[1;33m]\u001b[0m\u001b[1;33m[\u001b[0m\u001b[0mcoor\u001b[0m\u001b[1;33m]\u001b[0m \u001b[1;33m+\u001b[0m \u001b[0mh\u001b[0m\u001b[1;33m\u001b[0m\u001b[0m\n\u001b[0m\u001b[0;32m     16\u001b[0m     EE = E(atoms, dihedrals, angles, bonds, neighbours, two_bonds_neigh, three_bonds_neigh, \n\u001b[0;32m     17\u001b[0m            num, nghb_d, nghb_a, nghb_b, nghb_nb, full=True) \n",
      "\u001b[1;31mNameError\u001b[0m: name 'nm' is not defined"
     ],
     "output_type": "error"
    }
   ],
   "source": [
    "num = 280\n",
    "coor = 2\n",
    "h = 0.005\n",
    "M = 100\n",
    "mmm = []\n",
    "ccc = []\n",
    "\n",
    "print(\"Energy: \", E(atoms, dihedrals, angles, bonds, neighbours, two_bonds_neigh, three_bonds_neigh, num, nghb_d, nghb_a, nghb_b, nghb_nb, full=True))\n",
    "\n",
    "# print(E(atoms, dihedrals, angles, bonds, neighbours, two_bonds_neigh, three_bonds_neigh,nm))\n",
    "for k in range(0, M):\n",
    "    atoms[nm][coor] = atoms[nm][coor] + h\n",
    "    EE = E(atoms, dihedrals, angles, bonds, neighbours, two_bonds_neigh, three_bonds_neigh, \n",
    "           num, nghb_d, nghb_a, nghb_b, nghb_nb, full=True) \n",
    "    # E(atoms, dihedrals, angles, bonds, neighbours, two_bonds_neigh, three_bonds_neigh,nm)\n",
    "    mmm.append(EE)\n",
    "    ccc.append(k*h)  \n",
    "\n",
    "import matplotlib.pyplot as plt\n",
    "plt.plot(ccc, mmm)\n",
    "plt.ylabel(r\"Изменение энергии\")\n",
    "plt.xlabel(r\"Изменение положения атома\")\n",
    "plt.grid(True)\n",
    "plt.show()\n",
    "    \n",
    "print(E(atoms, dihedrals, angles, bonds, neighbours, two_bonds_neigh, three_bonds_neigh, num, nghb_d, nghb_a, nghb_b, nghb_nb, full=True))\n",
    "\n",
    "# print(E(atoms, dihedrals, angles, bonds, neighbours, two_bonds_neigh, three_bonds_neigh,nm))"
   ]
  },
  {
   "cell_type": "code",
   "execution_count": 14,
   "metadata": {},
   "outputs": [
    {
     "name": "stdout",
     "output_type": "stream",
     "text": [
      "6.90602313923\n"
     ]
    }
   ],
   "source": [
    "print(E(atoms, dihedrals, angles, bonds, neighbours, two_bonds_neigh, three_bonds_neigh, 2))"
   ]
  },
  {
   "cell_type": "code",
   "execution_count": 47,
   "metadata": {},
   "outputs": [
    {
     "name": "stdout",
     "output_type": "stream",
     "text": [
      "4438.13048459\n",
      "4438.13048459\n"
     ]
    }
   ],
   "source": [
    "print(E(atoms, dihedrals, angles, bonds, neighbours, two_bonds_neigh, three_bonds_neigh, 140))\n",
    "atoms[140][0] = atoms[140][0] + 0.5\n",
    "print(E(atoms, dihedrals, angles, bonds, neighbours, two_bonds_neigh, three_bonds_neigh, 140))"
   ]
  },
  {
   "cell_type": "code",
   "execution_count": 59,
   "metadata": {},
   "outputs": [
    {
     "name": "stdout",
     "output_type": "stream",
     "text": [
      "[3 4 3]\n"
     ]
    }
   ],
   "source": [
    "a = np.array([1, 2, 3])\n",
    "b = np.array([3, 2, 1])\n",
    "print(a*b)"
   ]
  },
  {
   "cell_type": "code",
   "execution_count": 74,
   "metadata": {
    "collapsed": true
   },
   "outputs": [],
   "source": [
    "c = 10*[1, 1, 1]\n",
    "#c[2][3]=[4,5]"
   ]
  },
  {
   "cell_type": "code",
   "execution_count": 77,
   "metadata": {},
   "outputs": [
    {
     "ename": "TypeError",
     "evalue": "'int' object is not subscriptable",
     "traceback": [
      "\u001b[0;31m---------------------------------------------------------------------------\u001b[0m",
      "\u001b[0;31mTypeError\u001b[0m                                 Traceback (most recent call last)",
      "\u001b[0;32m<ipython-input-77-00fd0f5235d5>\u001b[0m in \u001b[0;36m<module>\u001b[0;34m()\u001b[0m\n\u001b[0;32m----> 1\u001b[0;31m \u001b[0mprint\u001b[0m\u001b[0;34m(\u001b[0m\u001b[0mc\u001b[0m\u001b[0;34m[\u001b[0m\u001b[0;36m5\u001b[0m\u001b[0;34m]\u001b[0m\u001b[0;34m[\u001b[0m\u001b[0;36m2\u001b[0m\u001b[0;34m]\u001b[0m\u001b[0;34m)\u001b[0m\u001b[0;34m\u001b[0m\u001b[0m\n\u001b[0m",
      "\u001b[0;31mTypeError\u001b[0m: 'int' object is not subscriptable"
     ],
     "output_type": "error"
    }
   ],
   "source": [
    "print(c[5][2])"
   ]
  },
  {
   "cell_type": "code",
   "execution_count": 101,
   "metadata": {},
   "outputs": [
    {
     "name": "stdout",
     "output_type": "stream",
     "text": [
      "True\n"
     ]
    }
   ],
   "source": [
    "def ff(f=True):\n",
    "    if f:\n",
    "        print(\"True\")\n",
    "    else:\n",
    "        print(\"False\")\n",
    "      \n",
    "        \n",
    "ff(f=True)"
   ]
  },
  {
   "cell_type": "code",
   "execution_count": 97,
   "metadata": {},
   "outputs": [
    {
     "name": "stdout",
     "output_type": "stream",
     "text": [
      "2\n"
     ]
    }
   ],
   "source": [
    "c = [1, 2, 3]\n",
    "[c1, c2, c3] = c\n",
    "\n",
    "print(c2)"
   ]
  },
  {
   "cell_type": "code",
   "execution_count": 102,
   "metadata": {},
   "outputs": [
    {
     "name": "stdout",
     "output_type": "stream",
     "text": [
      "-2\n",
      "-1\n",
      "0\n",
      "1\n"
     ]
    }
   ],
   "source": [
    "for k in range(-2, 2):\n",
    "    print(k)"
   ]
  },
  {
   "cell_type": "code",
   "execution_count": 107,
   "metadata": {},
   "outputs": [
    {
     "name": "stdout",
     "output_type": "stream",
     "text": [
      "5\n"
     ]
    }
   ],
   "source": [
    "print(L)"
   ]
  },
  {
   "cell_type": "code",
   "execution_count": 238,
   "metadata": {},
   "outputs": [
    {
     "name": "stdout",
     "output_type": "stream",
     "text": [
      "Энергия -169.7640675101076; Время (мин) 0.04665\n"
     ]
    },
    {
     "data": {
      "text/plain": [
       "0"
      ]
     },
     "execution_count": 238,
     "metadata": {},
     "output_type": "execute_result"
    }
   ],
   "source": [
    "time_start = millis()\n",
    "# число атомов в изучаемом белке\n",
    "l = len(atoms)\n",
    "# размеры шагов по ортам в ангстремах\n",
    "h = [0.02, 0.02, 0.02]\n",
    "# сколько шагов делаем вдоль каждого орта с учетом знака\n",
    "L = 5\n",
    "S = 0\n",
    "# размер окрестности атома, по которой честно суммируе\n",
    "r = 10\n",
    "atoms_old = atoms\n",
    "record = [0, 0, 0]\n",
    "num = 434  # pyrandom.randrange(0, l)\n",
    "nghb_d = nghb_dihedrals(dihedrals, num)\n",
    "nghb_a = nghb_angles(angles, num)\n",
    "nghb_b = nghb_bonds(bonds, num)\n",
    "nghb_nb = nghbnb(atoms, num, r)[0]\n",
    "nghbc = nghbnb(atoms, num, r)[1]\n",
    "[Cx, Cy, Cz] = coef_nb(atoms, num, nghbc)\n",
    "\n",
    "DE_elst = E_elst(atoms, neighbours, two_bonds_neigh, three_bonds_neigh, num) - \\\n",
    "          E_elst_m(atoms, neighbours, two_bonds_neigh, three_bonds_neigh, num, nghb_nb)\n",
    "\n",
    "E_old = E(atoms, dihedrals, angles, bonds, neighbours, two_bonds_neigh, three_bonds_neigh, \n",
    "          num, nghb_d, nghb_a, nghb_b, nghb_nb, full=True)\n",
    "\n",
    "E_record = E_old\n",
    "for px in range(-L, L + 1):\n",
    "    for py in range(-L, L + 1):\n",
    "        for pz in range(-L, L + 1):\n",
    "            atoms[num][1] = atoms_old[num][1] + px * h[0]\n",
    "            atoms[num][2] = atoms_old[num][2] + py * h[1]\n",
    "            atoms[num][3] = atoms_old[num][3] + pz * h[2]\n",
    "            E_new = DE_elst + Cx * px * h[0] + Cy * py * h[1] + Cz * pz * h[2] + E(atoms, dihedrals, angles, bonds,\n",
    "                                                                                   neighbours, two_bonds_neigh,\n",
    "                                                                                   three_bonds_neigh, num, nghb_d,\n",
    "                                                                                   nghb_a, nghb_b, nghb_nb, full=False)\n",
    "            #  \"-0.05\" чтобы не учитвать погрешности в аппроксимации\n",
    "            if E_new < E_record - 0.05:  \n",
    "                record = [px, py, pz]\n",
    "                E_record = E_new\n",
    "atoms = atoms_old\n",
    "atoms[num][1] = atoms_old[num][1] + record[0] * h[0]\n",
    "atoms[num][2] = atoms_old[num][2] + record[1] * h[1]\n",
    "atoms[num][3] = atoms_old[num][3] + record[2] * h[2]\n",
    "\n",
    "time_now = millis()\n",
    "tm = (time_now - time_start) / 60000\n",
    "\n",
    "ETRUE = E(atoms, dihedrals, angles, bonds, neighbours, two_bonds_neigh, three_bonds_neigh, num, nghb_d, nghb_a, nghb_b,\n",
    "          nghb_nb, full=True)\n",
    "DE = ETRUE - E_old\n",
    "\n",
    "print(\"Энергия {}; Время (мин) {}\".format(DE, tm))\n",
    "k = 0\n",
    "prp_atm(atoms, k)\n",
    "os.system('./to-pdb atoms_out' + str(k) + '.csv output' + str(k) + '.pdb')"
   ]
  },
  {
   "cell_type": "code",
   "execution_count": 229,
   "metadata": {},
   "outputs": [
    {
     "name": "stdout",
     "output_type": "stream",
     "text": [
      "[998, 999, 1000, 1076, 1077, 1078, 1086, 1087, 1088, 1274, 1275, 1276, 1297, 1298, 1299, 1329, 1330, 1331, 1347, 1348, 1349]\n",
      "[692, 738, 739, 746, 747, 757, 876, 877, 878, 896, 916, 931]\n",
      "[420, 421, 422, 497]\n",
      "[98, 112, 114, 125, 132, 162, 163, 167, 168, 172, 174, 176, 177, 188, 194, 198, 202, 203, 204, 206, 207, 208, 209, 210, 211, 215, 217, 218, 223, 225, 226, 230, 233, 236, 239, 243, 255, 257, 258, 259, 261, 263, 267, 268, 270, 271, 272, 273, 276, 278, 280, 282, 283, 286, 288, 291, 294, 295, 298, 300, 301, 303, 304, 305, 309, 310, 311, 312, 313, 317, 319, 320, 321, 324, 325, 327, 328, 331, 332, 333, 339, 340, 341, 343, 344, 346, 348, 349, 351, 354, 355, 360, 362, 365, 368, 371, 373, 376, 379, 382, 384, 386, 387, 391, 392, 393, 396, 399, 400, 402, 404, 405, 406, 407, 408, 410, 412, 415, 416, 422, 424, 425, 426, 428, 431, 432, 434, 436, 437, 438, 439, 441, 444, 449, 453, 454, 471, 472, 474, 475, 478, 482, 487, 490, 492, 496, 498, 503, 504, 509, 511, 512, 513, 514, 515, 516, 517, 520, 521, 522, 524, 525, 527, 528, 530, 532, 534, 535, 537, 541, 543, 546, 554, 559, 560, 562, 564, 567, 568, 569, 571, 576, 582, 586, 588, 593, 597, 601, 612, 617, 619, 620, 621, 626, 631, 633, 636, 638, 639, 642, 647, 649, 652, 658, 664, 675, 678, 679, 680, 681, 682, 687, 689, 691, 692, 697, 698, 700, 702, 705, 707, 709, 712, 728, 731, 732, 733, 737, 740, 741, 742, 743, 746, 747, 750, 752, 760, 761, 762, 767, 769, 770, 772, 775, 776, 778, 779, 780, 781, 782, 790, 792, 795, 796, 798, 801, 803, 806, 811, 813, 816, 817, 821, 823, 826, 827, 829, 830, 836, 838, 840, 843, 844, 847, 849, 852, 853, 856, 859, 861, 866, 870, 877, 881, 886, 890, 891, 896, 902, 905, 907, 909, 910, 915, 920, 924, 926, 936, 941, 947, 952, 963, 964, 971, 972, 973, 975, 979, 980, 981, 985, 992, 994, 998, 1000, 1006, 1008, 1011, 1012, 1014, 1016, 1018, 1025, 1028, 1030, 1035, 1036, 1043, 1047, 1049, 1051, 1052, 1064, 1066, 1068, 1072]\n",
      "[-0.64841176096345898, -0.34487661167721234, -0.3806453116840201]\n"
     ]
    }
   ],
   "source": [
    "print(nghb_d)\n",
    "print(nghb_a)\n",
    "print(nghb_b)\n",
    "print(nghb_nb)\n",
    "# print(nghbc)\n",
    "print([Cx, Cy, Cz])"
   ]
  },
  {
   "cell_type": "code",
   "execution_count": 164,
   "metadata": {},
   "outputs": [
    {
     "name": "stdout",
     "output_type": "stream",
     "text": [
      "[5 5 5]\n"
     ]
    }
   ],
   "source": [
    "def dgdfg(nghbc):\n",
    "    E = np.array([0, 0, 0])\n",
    "    for j in nghbc:\n",
    "        r = np.array([1, 1, 1])\n",
    "        E[0] = E[0] + r[0]\n",
    "        E[1] = E[1] + r[1]\n",
    "        E[2] = E[2] + r[2]\n",
    "    return E\n",
    "\n",
    "\n",
    "nghbc = [1, 2, 3, 4, 76]\n",
    "print(dgdfg(nghbc))\n"
   ]
  },
  {
   "cell_type": "code",
   "execution_count": 212,
   "metadata": {},
   "outputs": [
    {
     "name": "stdout",
     "output_type": "stream",
     "text": [
      "0.0\n",
      "1.63332281568e-05\n",
      "1.63332281568e-05\n",
      "0.022693184179\n",
      "0.022693184179\n"
     ]
    }
   ],
   "source": [
    "E = np.array([0.0, 0.0, 0.0])\n",
    "print(E[0])\n",
    "\n",
    "i = 5\n",
    "j = 8\n",
    "r = np.array(atoms[j][1:4]) - np.array(atoms[i][1:4])\n",
    "ccc = atoms[i][6] * atoms[j][6] * (atoms[j][1] - atoms[i][1]) / pow(np.linalg.norm(r), 3)\n",
    "print(ccc)\n",
    "\n",
    "E[0] = E[0] + ccc \n",
    "print(E[0])\n",
    "print(E[0] * 1389.38757)\n",
    "print(ccc * 1389.38757)"
   ]
  },
  {
   "cell_type": "code",
   "execution_count": 175,
   "metadata": {},
   "outputs": [
    {
     "name": "stdout",
     "output_type": "stream",
     "text": [
      "0.022693184179\n"
     ]
    }
   ],
   "source": [
    "print(\n",
    "    (E[0] + atoms[i][6] * atoms[j][6] * (atoms[j][1] - atoms[i][1]) / pow(np.linalg.norm(r), 3)) \n",
    "    * \n",
    "    1389.38757\n",
    ")"
   ]
  },
  {
   "cell_type": "code",
   "execution_count": 210,
   "metadata": {},
   "outputs": [
    {
     "name": "stdout",
     "output_type": "stream",
     "text": [
      "[  0.00000000e+00   1.63332282e-05   0.00000000e+00]\n"
     ]
    }
   ],
   "source": [
    "y = np.array([0.0, 0.0, 0.0])\n",
    "y[1] = y[1] + ccc\n",
    "print(y)\n"
   ]
  },
  {
   "cell_type": "code",
   "execution_count": 239,
   "metadata": {},
   "outputs": [
    {
     "name": "stdout",
     "output_type": "stream",
     "text": [
      "-0.0945943788217\n"
     ]
    }
   ],
   "source": [
    "num = 434\n",
    "Delta = E_vdw(atoms, neighbours, two_bonds_neigh, three_bonds_neigh, num) - \\\n",
    "        E_vdw_m(atoms, neighbours, two_bonds_neigh, three_bonds_neigh, num, nghb_nb)\n",
    "\n",
    "#print(nghb_nb)\n",
    "print (Delta)"
   ]
  },
  {
   "cell_type": "code",
   "execution_count": 249,
   "metadata": {
    "collapsed": true
   },
   "outputs": [],
   "source": [
    "aa = DE_elst + \\\n",
    "     Cx*px*h[0] + Cy*py*h[1] + Cz*pz*h[2] + \\\n",
    "     E(atoms, dihedrals, angles, bonds, neighbours, two_bonds_neigh, \n",
    "       three_bonds_neigh, num, nghb_d, nghb_a, nghb_b, nghb_nb, full=False)"
   ]
  },
  {
   "cell_type": "code",
   "execution_count": 250,
   "metadata": {
    "collapsed": true
   },
   "outputs": [],
   "source": [
    "bb = E(atoms, dihedrals, angles, bonds, neighbours, two_bonds_neigh, \n",
    "       three_bonds_neigh, num, nghb_d, nghb_a, nghb_b, nghb_nb, full=True)"
   ]
  },
  {
   "cell_type": "code",
   "execution_count": 254,
   "metadata": {},
   "outputs": [
    {
     "data": {
      "text/plain": [
       "1.0280167218129463"
      ]
     },
     "execution_count": 254,
     "metadata": {},
     "output_type": "execute_result"
    }
   ],
   "source": [
    "bb - aa"
   ]
  },
  {
   "cell_type": "code",
   "execution_count": 252,
   "metadata": {},
   "outputs": [
    {
     "data": {
      "text/plain": [
       "3.2317934304534361"
      ]
     },
     "execution_count": 252,
     "metadata": {},
     "output_type": "execute_result"
    }
   ],
   "source": [
    "DE_elst"
   ]
  },
  {
   "cell_type": "code",
   "execution_count": null,
   "metadata": {
    "collapsed": true
   },
   "outputs": [],
   "source": []
  }
 ],
 "metadata": {
  "kernelspec": {
   "display_name": "Python 2",
   "language": "python",
   "name": "python2"
  },
  "language_info": {
   "codemirror_mode": {
    "name": "ipython",
    "version": 2
   },
   "file_extension": ".py",
   "mimetype": "text/x-python",
   "name": "python",
   "nbconvert_exporter": "python",
   "pygments_lexer": "ipython2",
   "version": "2.7.11"
  }
 },
 "nbformat": 4,
 "nbformat_minor": 2
}
