{
 "cells": [
  {
   "cell_type": "code",
   "execution_count": 258,
   "metadata": {},
   "outputs": [],
   "source": [
    "import numpy as np\n",
    "import math as math\n",
    "import random as pyrandom\n",
    "from scipy import spatial\n",
    "\n",
    "# Функция переводит считываемый .txt файл (аргумент str)\n",
    "# без первой строчки (не содержащей данных) в список python \n",
    "# (обект типа list); аргумент m отвечает за то, \n",
    "# сколько в начале идет переменных int-типа; аргумент M был введен,\n",
    "# чтобы не считывать не нужную информацию \n",
    "def rd(str,m = 100, M = 100):\n",
    "    with open(str) as f:\n",
    "        polyShape = []\n",
    "        k = 0\n",
    "        for line in f:\n",
    "            if k > 0:\n",
    "                line = line.strip()\n",
    "                line = line.split(\",\")\n",
    "                newline = line[:min(M,len(line))] # to deal with blank \n",
    "                if newline:            # lines (ie skip them)\n",
    "                    newline = [float(i) for i in newline]\n",
    "                    l = len(newline)\n",
    "                    ml = min(l,m)\n",
    "                    for i in range(0,ml):\n",
    "                        newline[i] = int(newline[i])\n",
    "                    polyShape.append(newline + line[min(M,len(newline)):])\n",
    "            k = k + 1\n",
    "    return polyShape\n",
    "\n",
    "# atoms.txt Содержит информацию об атомах, в колонках следующие данные:\n",
    "# ID, x, y, z, сигма, эпсилон, заряд, \n",
    "# радиус Ван-дер-Ваальса, объём и еще две колонки типа строки; \n",
    "# радиус и объем и эти две колонки не используются далее\n",
    "atoms = rd('atoms.txt',1,9) # вместо 9 можно было и 7 взять\n",
    "\n",
    "#bonds.txt Содержит информацию о связях, структура файла:\n",
    "# ID1, ID2, Kr, r0\n",
    "bonds = rd('bonds.txt',2)\n",
    "\n",
    "# angles.txt Содержит информацию об углах, структура файла:\n",
    "# ID1, ID2, ID3, Kt, theta0\n",
    "angles = rd('angles.txt',3)\n",
    "\n",
    "# dihedrals.txt Содержит информацию о двугранных углах, структура:\n",
    "# ID1, ID2, ID3, ID4, V1, V2, V3, V4\n",
    "# Все константы V1, V2, V3, V4 разделены на два, \n",
    "# при вычислении энергии делить их на два НЕ НАДО.\n",
    "dihedrals = rd('dihedrals.txt',4)\n",
    "\n",
    "# neighbours.txt, two_bonds_neigh.txt, three_bonds_neigh.txt\n",
    "# Содержат информацию о соседях непосредственных, \n",
    "# второго и третьего порядка соответственно. \n",
    "# У всех одна и та же структура:\n",
    "# ID    id_1 id_2 ... id_n\n",
    "# ID – индекс атома, id_1 id_2 ... id_n – индексы его соседей.\n",
    "neighbours = rd('neighbours.txt')\n",
    "two_bonds_neigh = rd('two_bonds_neigh.txt')\n",
    "three_bonds_neigh = rd('three_bonds_neigh.txt')\n",
    "\n",
    "# По координатам 4-х точек рассчитывается косинус диэдрального угла, ими образованного\n",
    "def dihedral(v1,v2,v3,v4):\n",
    "    v1 = np.array(v1)\n",
    "    v2 = np.array(v2)\n",
    "    v3 = np.array(v3)\n",
    "    v4 = np.array(v4)\n",
    "    vm = (v2 + v3)/2\n",
    "    vm1 = v1 - vm\n",
    "    vm4 = v4 - vm\n",
    "    v23 = v3 - v2\n",
    "    sp1 = vm1 - v23*(vm1.dot(v23)/v23.dot(v23))\n",
    "    sp2 = vm4 - v23*(vm4.dot(v23)/v23.dot(v23))\n",
    "    cos = sp1.dot(sp2)/(np.linalg.norm(sp1)*np.linalg.norm(sp2))\n",
    "    return cos\n",
    "\n",
    "# По координатам 3-х точек рассчитывается угл, ими образованный\n",
    "def angle(v1,v2,v3):\n",
    "    vv1 = np.array(v1) - np.array(v2)\n",
    "    vv2 = np.array(v3) - np.array(v2)\n",
    "    cos = vv1.dot(vv2)/(np.linalg.norm(vv1)*np.linalg.norm(vv2))\n",
    "    acos = np.arccos(cos)\n",
    "    return acos\n",
    "\n",
    "# Рассчитываются константы f_ij в E_{nonbonded}\n",
    "def f_ij(neighbours, two_bonds_neigh, three_bonds_neigh, i, j):\n",
    "    for idx in neighbours[i][1:]:\n",
    "        if idx == j:\n",
    "            return 0\n",
    "    for idx in two_bonds_neigh[i][1:]:\n",
    "        if idx == j:\n",
    "            return 0\n",
    "    for idx in three_bonds_neigh[i][1:]:\n",
    "        if idx == j:\n",
    "            return 0.5\n",
    "    return 1\n",
    "\n",
    "# Далее вычисляются отдельные составляющие OPLS force field\n",
    "# Точнее говоря, вычисляются составляющие энергии, \n",
    "# которые затрагиваются при изменении координат атома с номером num\n",
    "# В текущей реализации пересчет каждой составляющей энергии \n",
    "# составляет O(N), где N - число атомов. На самом деле в этом месте\n",
    "# можно ускороиться по всем слагаемым, кроме E_elst\n",
    "def E_dihedral(atoms,dihedrals,num,nghb_d):\n",
    "    #N = len(dihedrals)\n",
    "    E = 0\n",
    "    for k in nghb_d: #range(0,N):\n",
    "        #if num in dihedrals[k][0:4]:\n",
    "        cos = dihedral(atoms[dihedrals[k][0]][1:4],atoms[dihedrals[k][1]][1:4],atoms[dihedrals[k][2]][1:4],atoms[dihedrals[k][3]][1:4])\n",
    "        E = E + dihedrals[k][4]*(1 + cos)\n",
    "        E = E + 2*dihedrals[k][5]*(1 - pow(cos,2))\n",
    "        E = E + dihedrals[k][6]*(1 + 4*pow(cos,3) - 3*cos)\n",
    "        E = E + 8*dihedrals[k][7]*(pow(cos,2) - pow(cos,4))\n",
    "    return E * 4.184\n",
    "\n",
    "def E_angle(atoms,angles,num,nghb_a):\n",
    "    #N = len(angles)\n",
    "    E = 0\n",
    "    for k in nghb_a: #range(0,N):\n",
    "        #if num in angles[k][0:3]:\n",
    "        E = E + angles[k][3]*pow(angle(atoms[angles[k][0]][1:4],atoms[angles[k][1]][1:4],atoms[angles[k][2]][1:4]) - angles[k][4],2)\n",
    "    return E * 4.184\n",
    "\n",
    "def E_bonds(atoms,bonds,num,nghb_b):\n",
    "    #N = len(bonds)\n",
    "    E = 0\n",
    "    for k in nghb_b: #range(0,N):\n",
    "        #if num in bonds[k][0:2]:\n",
    "        r = np.array(atoms[bonds[k][0]][1:4]) - np.array(atoms[bonds[k][1]][1:4])  \n",
    "        E = E + bonds[k][2]*pow(np.linalg.norm(r) - bonds[k][3],2)\n",
    "    return E * 4.184\n",
    "\n",
    "# 1389.38757 – константа, учитывающая 1/(4πε0), множитель 10^(-10) \n",
    "# – перевод ангстремов в метры,\n",
    "# заряды электронов и перевод ккал/моль в кДж/моль\n",
    "def E_elst(atoms, neighbours, two_bonds_neigh, three_bonds_neigh,num):\n",
    "    N = len(atoms)\n",
    "    E = 0\n",
    "    i = num\n",
    "    for j in range(0,N):\n",
    "        if j!=i:\n",
    "            f = f_ij(neighbours, two_bonds_neigh, three_bonds_neigh, i, j)\n",
    "            if f == 0:\n",
    "                continue\n",
    "            else:\n",
    "                r = np.array(atoms[i][1:4]) - np.array(atoms[j][1:4])\n",
    "                E = E + f * atoms[i][6] * atoms[j][6] / np.linalg.norm(r)\n",
    "    return E * 1389.38757\n",
    "\n",
    "def E_elst_m(atoms, neighbours, two_bonds_neigh, three_bonds_neigh,num,nghb_nb):\n",
    "    #N = len(atoms)\n",
    "    E = 0\n",
    "    i = num\n",
    "    for j in nghb_nb: #range(0,N):\n",
    "        if j!=i:\n",
    "            f = f_ij(neighbours, two_bonds_neigh, three_bonds_neigh, i, j)\n",
    "            if f == 0:\n",
    "                continue\n",
    "            else:\n",
    "                r = np.array(atoms[i][1:4]) - np.array(atoms[j][1:4])\n",
    "                E = E + f * atoms[i][6] * atoms[j][6] / np.linalg.norm(r)\n",
    "    return E * 1389.38757\n",
    "\n",
    "\n",
    "# Для получения формулы из Википедии https://en.wikipedia.org/wiki/OPLS:\n",
    "# Раскрыть скобки и подставить\n",
    "# A = eps * (sig ^ 6)\n",
    "# C = eps * (sig ^ 3)\n",
    "# Формула переделана для уменьшения числа арифметических операций \n",
    "# и соответствия параметрам, которые предоставляет OPLS\n",
    "# 4 * 4.184 – перевод ккал/моль в кДж/моль\n",
    "def E_vdw(atoms, neighbours, two_bonds_neigh, three_bonds_neigh,num):\n",
    "    N = len(atoms)\n",
    "    E = 0\n",
    "    i = num\n",
    "    for j in range(0,N):\n",
    "        if j!=i:\n",
    "            f = f_ij(neighbours, two_bonds_neigh, three_bonds_neigh, i, j)\n",
    "            if f == 0:\n",
    "                continue\n",
    "            else:\n",
    "                eps = math.sqrt(atoms[i][5] * atoms[j][5])\n",
    "                sig = atoms[i][4] * atoms[j][4]\n",
    "                dist = np.linalg.norm(np.array(atoms[i][1:4]) - np.array(atoms[j][1:4]))\n",
    "                sigSqDivR = (sig / dist ** 2) ** 3\n",
    "                E = E + f * eps * sigSqDivR * (sigSqDivR - 1)\n",
    "    return E * 4 * 4.184\n",
    "\n",
    "def E_vdw_m(atoms, neighbours, two_bonds_neigh, three_bonds_neigh,num,nghb_nb):\n",
    "    #N = len(atoms)\n",
    "    E = 0\n",
    "    i = num\n",
    "    for j in nghb_nb: #range(0,N):\n",
    "        if j!=i:\n",
    "            f = f_ij(neighbours, two_bonds_neigh, three_bonds_neigh, i, j)\n",
    "            if f == 0:\n",
    "                continue\n",
    "            else:\n",
    "                eps = math.sqrt(atoms[i][5] * atoms[j][5])\n",
    "                sig = atoms[i][4] * atoms[j][4]\n",
    "                dist = np.linalg.norm(np.array(atoms[i][1:4]) - np.array(atoms[j][1:4]))\n",
    "                sigSqDivR = (sig / dist ** 2) ** 3\n",
    "                E = E + f * eps * sigSqDivR * (sigSqDivR - 1)\n",
    "    return E * 4 * 4.184\n",
    "\n",
    "\n",
    "def E(atoms, dihedrals, angles, bonds, neighbours, two_bonds_neigh, three_bonds_neigh, num, nghb_d, nghb_a, nghb_b, nghb_nb, full = True):\n",
    "    if full:\n",
    "        E = E_dihedral(atoms, dihedrals,num,nghb_d) + E_angle(atoms,angles,num,nghb_a) + E_bonds(atoms,bonds,num,nghb_b)+ E_elst(atoms, neighbours, two_bonds_neigh, three_bonds_neigh,num) + E_vdw(atoms, neighbours, two_bonds_neigh, three_bonds_neigh,num)\n",
    "    else:\n",
    "        E = E_dihedral(atoms, dihedrals,num,nghb_d) + E_angle(atoms,angles,num,nghb_a) + E_bonds(atoms,bonds,num,nghb_b)+ E_elst_m(atoms, neighbours, two_bonds_neigh, three_bonds_neigh,num,nghb_nb) + E_vdw_m(atoms, neighbours, two_bonds_neigh, three_bonds_neigh,num,nghb_nb)\n",
    "    return E\n",
    "\n",
    "def nghbd(dihedrals,num):\n",
    "    N = len(dihedrals)\n",
    "    nghb_d = []\n",
    "    for k in range(0,N):\n",
    "        if num in dihedrals[k][0:4]:\n",
    "            nghb_d.append(k)\n",
    "    return nghb_d\n",
    "\n",
    "def nghba(angles,num):\n",
    "    N = len(angles)\n",
    "    nghb_a = []\n",
    "    for k in range(0,N):\n",
    "        if num in angles[k][0:3]:\n",
    "            nghb_a.append(k)\n",
    "    return nghb_a\n",
    "\n",
    "def nghbb(bonds,num):\n",
    "    N = len(bonds)\n",
    "    nghb_b = []\n",
    "    for k in range(0,N):\n",
    "        if num in bonds[k][0:2]:\n",
    "            nghb_b.append(k)\n",
    "    return nghb_b\n",
    "\n",
    "def nghbnb(atoms,num,r):\n",
    "    N = len(atoms)\n",
    "    nghb = []\n",
    "    nghbc = []\n",
    "    # Список nghb формируется из соседей атома num, находящихся на расстояние менее r\n",
    "    for k in range(0,N):\n",
    "        if np.linalg.norm(np.array(atoms[k][1:4]) - np.array(atoms[num][1:4])) < r:\n",
    "            nghb.append(k)\n",
    "        else:\n",
    "            nghbc.append(k)\n",
    "    return nghb, nghbc\n",
    "\n",
    "def coef_nb(atoms,num,nghbc):\n",
    "    E = np.array([0.0,0.0,0.0])\n",
    "    i = num\n",
    "    for j in nghbc: \n",
    "        r = np.array(atoms[j][1:4]) - np.array(atoms[i][1:4])\n",
    "        E[0] = E[0] + atoms[i][6] * atoms[j][6] * (atoms[j][1] - atoms[i][1]) / pow(np.linalg.norm(r),3)\n",
    "        E[1] = E[1] + atoms[i][6] * atoms[j][6] * (atoms[j][2] - atoms[i][2]) / pow(np.linalg.norm(r),3)\n",
    "        E[2] = E[2] + atoms[i][6] * atoms[j][6] * (atoms[j][3] - atoms[i][3]) / pow(np.linalg.norm(r),3)\n",
    "    return E * 1389.38757\n",
    "\n",
    "\n",
    "\n",
    "#print(E_angle(atoms, angles)) \n",
    "#print(E_dihedral(atoms, dihedrals,3)) \n",
    "#print(E(atoms, dihedrals, angles, bonds, neighbours, two_bonds_neigh, three_bonds_neigh,3))"
   ]
  },
  {
   "cell_type": "code",
   "execution_count": 256,
   "metadata": {
    "scrolled": true
   },
   "outputs": [
    {
     "name": "stdout",
     "output_type": "stream",
     "text": [
      "Число итераций 0; Энергия 0.0; Время (мин) 0.0223\n",
      "Число итераций 100; Энергия 0.0; Время (мин) 2.921483333333333\n",
      "Число итераций 200; Энергия 0.0; Время (мин) 5.924383333333333\n",
      "Число итераций 300; Энергия 0.0; Время (мин) 8.85605\n"
     ]
    },
    {
     "ename": "KeyboardInterrupt",
     "evalue": "",
     "traceback": [
      "\u001b[0;31m---------------------------------------------------------------------------\u001b[0m",
      "\u001b[0;31mKeyboardInterrupt\u001b[0m                         Traceback (most recent call last)",
      "\u001b[0;32m<ipython-input-256-ea4658ebac7b>\u001b[0m in \u001b[0;36m<module>\u001b[0;34m()\u001b[0m\n\u001b[1;32m     48\u001b[0m                 \u001b[0matoms\u001b[0m\u001b[0;34m[\u001b[0m\u001b[0mnum\u001b[0m\u001b[0;34m]\u001b[0m\u001b[0;34m[\u001b[0m\u001b[0;36m2\u001b[0m\u001b[0;34m]\u001b[0m \u001b[0;34m=\u001b[0m \u001b[0matoms_old\u001b[0m\u001b[0;34m[\u001b[0m\u001b[0mnum\u001b[0m\u001b[0;34m]\u001b[0m\u001b[0;34m[\u001b[0m\u001b[0;36m2\u001b[0m\u001b[0;34m]\u001b[0m \u001b[0;34m+\u001b[0m \u001b[0mpy\u001b[0m\u001b[0;34m*\u001b[0m\u001b[0mh\u001b[0m\u001b[0;34m[\u001b[0m\u001b[0;36m1\u001b[0m\u001b[0;34m]\u001b[0m\u001b[0;34m\u001b[0m\u001b[0m\n\u001b[1;32m     49\u001b[0m                 \u001b[0matoms\u001b[0m\u001b[0;34m[\u001b[0m\u001b[0mnum\u001b[0m\u001b[0;34m]\u001b[0m\u001b[0;34m[\u001b[0m\u001b[0;36m3\u001b[0m\u001b[0;34m]\u001b[0m \u001b[0;34m=\u001b[0m \u001b[0matoms_old\u001b[0m\u001b[0;34m[\u001b[0m\u001b[0mnum\u001b[0m\u001b[0;34m]\u001b[0m\u001b[0;34m[\u001b[0m\u001b[0;36m3\u001b[0m\u001b[0;34m]\u001b[0m \u001b[0;34m+\u001b[0m \u001b[0mpz\u001b[0m\u001b[0;34m*\u001b[0m\u001b[0mh\u001b[0m\u001b[0;34m[\u001b[0m\u001b[0;36m2\u001b[0m\u001b[0;34m]\u001b[0m\u001b[0;34m\u001b[0m\u001b[0m\n\u001b[0;32m---> 50\u001b[0;31m                 \u001b[0mE_new\u001b[0m \u001b[0;34m=\u001b[0m \u001b[0mDE_elst\u001b[0m \u001b[0;34m+\u001b[0m \u001b[0mCx\u001b[0m\u001b[0;34m*\u001b[0m\u001b[0mpx\u001b[0m\u001b[0;34m*\u001b[0m\u001b[0mh\u001b[0m\u001b[0;34m[\u001b[0m\u001b[0;36m0\u001b[0m\u001b[0;34m]\u001b[0m \u001b[0;34m+\u001b[0m \u001b[0mCy\u001b[0m\u001b[0;34m*\u001b[0m\u001b[0mpy\u001b[0m\u001b[0;34m*\u001b[0m\u001b[0mh\u001b[0m\u001b[0;34m[\u001b[0m\u001b[0;36m1\u001b[0m\u001b[0;34m]\u001b[0m \u001b[0;34m+\u001b[0m \u001b[0mCz\u001b[0m\u001b[0;34m*\u001b[0m\u001b[0mpz\u001b[0m\u001b[0;34m*\u001b[0m\u001b[0mh\u001b[0m\u001b[0;34m[\u001b[0m\u001b[0;36m2\u001b[0m\u001b[0;34m]\u001b[0m \u001b[0;34m+\u001b[0m \u001b[0mE\u001b[0m\u001b[0;34m(\u001b[0m\u001b[0matoms\u001b[0m\u001b[0;34m,\u001b[0m \u001b[0mdihedrals\u001b[0m\u001b[0;34m,\u001b[0m \u001b[0mangles\u001b[0m\u001b[0;34m,\u001b[0m \u001b[0mbonds\u001b[0m\u001b[0;34m,\u001b[0m \u001b[0mneighbours\u001b[0m\u001b[0;34m,\u001b[0m \u001b[0mtwo_bonds_neigh\u001b[0m\u001b[0;34m,\u001b[0m \u001b[0mthree_bonds_neigh\u001b[0m\u001b[0;34m,\u001b[0m \u001b[0mnum\u001b[0m\u001b[0;34m,\u001b[0m \u001b[0mnghb_d\u001b[0m\u001b[0;34m,\u001b[0m \u001b[0mnghb_a\u001b[0m\u001b[0;34m,\u001b[0m \u001b[0mnghb_b\u001b[0m\u001b[0;34m,\u001b[0m \u001b[0mnghb_nb\u001b[0m\u001b[0;34m,\u001b[0m \u001b[0mfull\u001b[0m \u001b[0;34m=\u001b[0m \u001b[0;32mFalse\u001b[0m\u001b[0;34m)\u001b[0m\u001b[0;34m\u001b[0m\u001b[0m\n\u001b[0m\u001b[1;32m     51\u001b[0m                 \u001b[0;32mif\u001b[0m \u001b[0mE_new\u001b[0m \u001b[0;34m<\u001b[0m \u001b[0mE_record\u001b[0m \u001b[0;34m-\u001b[0m \u001b[0;36m2\u001b[0m\u001b[0;34m:\u001b[0m \u001b[0;31m#  \"-0.2\" чтобы не учитвать погрешности в аппроксимации\u001b[0m\u001b[0;34m\u001b[0m\u001b[0m\n\u001b[1;32m     52\u001b[0m                     \u001b[0mrecord\u001b[0m \u001b[0;34m=\u001b[0m \u001b[0;34m[\u001b[0m\u001b[0mpx\u001b[0m\u001b[0;34m,\u001b[0m \u001b[0mpy\u001b[0m\u001b[0;34m,\u001b[0m \u001b[0mpz\u001b[0m\u001b[0;34m]\u001b[0m\u001b[0;34m\u001b[0m\u001b[0m\n",
      "\u001b[0;32m<ipython-input-255-10a9092c8184>\u001b[0m in \u001b[0;36mE\u001b[0;34m(atoms, dihedrals, angles, bonds, neighbours, two_bonds_neigh, three_bonds_neigh, num, nghb_d, nghb_a, nghb_b, nghb_nb, full)\u001b[0m\n\u001b[1;32m    207\u001b[0m         \u001b[0mE\u001b[0m \u001b[0;34m=\u001b[0m \u001b[0mE_dihedral\u001b[0m\u001b[0;34m(\u001b[0m\u001b[0matoms\u001b[0m\u001b[0;34m,\u001b[0m \u001b[0mdihedrals\u001b[0m\u001b[0;34m,\u001b[0m\u001b[0mnum\u001b[0m\u001b[0;34m,\u001b[0m\u001b[0mnghb_d\u001b[0m\u001b[0;34m)\u001b[0m \u001b[0;34m+\u001b[0m \u001b[0mE_angle\u001b[0m\u001b[0;34m(\u001b[0m\u001b[0matoms\u001b[0m\u001b[0;34m,\u001b[0m\u001b[0mangles\u001b[0m\u001b[0;34m,\u001b[0m\u001b[0mnum\u001b[0m\u001b[0;34m,\u001b[0m\u001b[0mnghb_a\u001b[0m\u001b[0;34m)\u001b[0m \u001b[0;34m+\u001b[0m \u001b[0mE_bonds\u001b[0m\u001b[0;34m(\u001b[0m\u001b[0matoms\u001b[0m\u001b[0;34m,\u001b[0m\u001b[0mbonds\u001b[0m\u001b[0;34m,\u001b[0m\u001b[0mnum\u001b[0m\u001b[0;34m,\u001b[0m\u001b[0mnghb_b\u001b[0m\u001b[0;34m)\u001b[0m\u001b[0;34m+\u001b[0m \u001b[0mE_elst\u001b[0m\u001b[0;34m(\u001b[0m\u001b[0matoms\u001b[0m\u001b[0;34m,\u001b[0m \u001b[0mneighbours\u001b[0m\u001b[0;34m,\u001b[0m \u001b[0mtwo_bonds_neigh\u001b[0m\u001b[0;34m,\u001b[0m \u001b[0mthree_bonds_neigh\u001b[0m\u001b[0;34m,\u001b[0m\u001b[0mnum\u001b[0m\u001b[0;34m)\u001b[0m \u001b[0;34m+\u001b[0m \u001b[0mE_vdw_m\u001b[0m\u001b[0;34m(\u001b[0m\u001b[0matoms\u001b[0m\u001b[0;34m,\u001b[0m \u001b[0mneighbours\u001b[0m\u001b[0;34m,\u001b[0m \u001b[0mtwo_bonds_neigh\u001b[0m\u001b[0;34m,\u001b[0m \u001b[0mthree_bonds_neigh\u001b[0m\u001b[0;34m,\u001b[0m\u001b[0mnum\u001b[0m\u001b[0;34m,\u001b[0m\u001b[0mnghb_nb\u001b[0m\u001b[0;34m)\u001b[0m\u001b[0;34m\u001b[0m\u001b[0m\n\u001b[1;32m    208\u001b[0m     \u001b[0;32melse\u001b[0m\u001b[0;34m:\u001b[0m\u001b[0;34m\u001b[0m\u001b[0m\n\u001b[0;32m--> 209\u001b[0;31m         \u001b[0mE\u001b[0m \u001b[0;34m=\u001b[0m \u001b[0mE_dihedral\u001b[0m\u001b[0;34m(\u001b[0m\u001b[0matoms\u001b[0m\u001b[0;34m,\u001b[0m \u001b[0mdihedrals\u001b[0m\u001b[0;34m,\u001b[0m\u001b[0mnum\u001b[0m\u001b[0;34m,\u001b[0m\u001b[0mnghb_d\u001b[0m\u001b[0;34m)\u001b[0m \u001b[0;34m+\u001b[0m \u001b[0mE_angle\u001b[0m\u001b[0;34m(\u001b[0m\u001b[0matoms\u001b[0m\u001b[0;34m,\u001b[0m\u001b[0mangles\u001b[0m\u001b[0;34m,\u001b[0m\u001b[0mnum\u001b[0m\u001b[0;34m,\u001b[0m\u001b[0mnghb_a\u001b[0m\u001b[0;34m)\u001b[0m \u001b[0;34m+\u001b[0m \u001b[0mE_bonds\u001b[0m\u001b[0;34m(\u001b[0m\u001b[0matoms\u001b[0m\u001b[0;34m,\u001b[0m\u001b[0mbonds\u001b[0m\u001b[0;34m,\u001b[0m\u001b[0mnum\u001b[0m\u001b[0;34m,\u001b[0m\u001b[0mnghb_b\u001b[0m\u001b[0;34m)\u001b[0m\u001b[0;34m+\u001b[0m \u001b[0mE_elst_m\u001b[0m\u001b[0;34m(\u001b[0m\u001b[0matoms\u001b[0m\u001b[0;34m,\u001b[0m \u001b[0mneighbours\u001b[0m\u001b[0;34m,\u001b[0m \u001b[0mtwo_bonds_neigh\u001b[0m\u001b[0;34m,\u001b[0m \u001b[0mthree_bonds_neigh\u001b[0m\u001b[0;34m,\u001b[0m\u001b[0mnum\u001b[0m\u001b[0;34m,\u001b[0m\u001b[0mnghb_nb\u001b[0m\u001b[0;34m)\u001b[0m \u001b[0;34m+\u001b[0m \u001b[0mE_vdw_m\u001b[0m\u001b[0;34m(\u001b[0m\u001b[0matoms\u001b[0m\u001b[0;34m,\u001b[0m \u001b[0mneighbours\u001b[0m\u001b[0;34m,\u001b[0m \u001b[0mtwo_bonds_neigh\u001b[0m\u001b[0;34m,\u001b[0m \u001b[0mthree_bonds_neigh\u001b[0m\u001b[0;34m,\u001b[0m\u001b[0mnum\u001b[0m\u001b[0;34m,\u001b[0m\u001b[0mnghb_nb\u001b[0m\u001b[0;34m)\u001b[0m\u001b[0;34m\u001b[0m\u001b[0m\n\u001b[0m\u001b[1;32m    210\u001b[0m     \u001b[0;32mreturn\u001b[0m \u001b[0mE\u001b[0m\u001b[0;34m\u001b[0m\u001b[0m\n\u001b[1;32m    211\u001b[0m \u001b[0;34m\u001b[0m\u001b[0m\n",
      "\u001b[0;32m<ipython-input-255-10a9092c8184>\u001b[0m in \u001b[0;36mE_elst_m\u001b[0;34m(atoms, neighbours, two_bonds_neigh, three_bonds_neigh, num, nghb_nb)\u001b[0m\n\u001b[1;32m    157\u001b[0m             \u001b[0;32melse\u001b[0m\u001b[0;34m:\u001b[0m\u001b[0;34m\u001b[0m\u001b[0m\n\u001b[1;32m    158\u001b[0m                 \u001b[0mr\u001b[0m \u001b[0;34m=\u001b[0m \u001b[0mnp\u001b[0m\u001b[0;34m.\u001b[0m\u001b[0marray\u001b[0m\u001b[0;34m(\u001b[0m\u001b[0matoms\u001b[0m\u001b[0;34m[\u001b[0m\u001b[0mi\u001b[0m\u001b[0;34m]\u001b[0m\u001b[0;34m[\u001b[0m\u001b[0;36m1\u001b[0m\u001b[0;34m:\u001b[0m\u001b[0;36m4\u001b[0m\u001b[0;34m]\u001b[0m\u001b[0;34m)\u001b[0m \u001b[0;34m-\u001b[0m \u001b[0mnp\u001b[0m\u001b[0;34m.\u001b[0m\u001b[0marray\u001b[0m\u001b[0;34m(\u001b[0m\u001b[0matoms\u001b[0m\u001b[0;34m[\u001b[0m\u001b[0mj\u001b[0m\u001b[0;34m]\u001b[0m\u001b[0;34m[\u001b[0m\u001b[0;36m1\u001b[0m\u001b[0;34m:\u001b[0m\u001b[0;36m4\u001b[0m\u001b[0;34m]\u001b[0m\u001b[0;34m)\u001b[0m\u001b[0;34m\u001b[0m\u001b[0m\n\u001b[0;32m--> 159\u001b[0;31m                 \u001b[0mE\u001b[0m \u001b[0;34m=\u001b[0m \u001b[0mE\u001b[0m \u001b[0;34m+\u001b[0m \u001b[0mf\u001b[0m \u001b[0;34m*\u001b[0m \u001b[0matoms\u001b[0m\u001b[0;34m[\u001b[0m\u001b[0mi\u001b[0m\u001b[0;34m]\u001b[0m\u001b[0;34m[\u001b[0m\u001b[0;36m6\u001b[0m\u001b[0;34m]\u001b[0m \u001b[0;34m*\u001b[0m \u001b[0matoms\u001b[0m\u001b[0;34m[\u001b[0m\u001b[0mj\u001b[0m\u001b[0;34m]\u001b[0m\u001b[0;34m[\u001b[0m\u001b[0;36m6\u001b[0m\u001b[0;34m]\u001b[0m \u001b[0;34m/\u001b[0m \u001b[0mnp\u001b[0m\u001b[0;34m.\u001b[0m\u001b[0mlinalg\u001b[0m\u001b[0;34m.\u001b[0m\u001b[0mnorm\u001b[0m\u001b[0;34m(\u001b[0m\u001b[0mr\u001b[0m\u001b[0;34m)\u001b[0m\u001b[0;34m\u001b[0m\u001b[0m\n\u001b[0m\u001b[1;32m    160\u001b[0m     \u001b[0;32mreturn\u001b[0m \u001b[0mE\u001b[0m \u001b[0;34m*\u001b[0m \u001b[0;36m1389.38757\u001b[0m\u001b[0;34m\u001b[0m\u001b[0m\n\u001b[1;32m    161\u001b[0m \u001b[0;34m\u001b[0m\u001b[0m\n",
      "\u001b[0;31mKeyboardInterrupt\u001b[0m: "
     ],
     "output_type": "error"
    }
   ],
   "source": [
    "import os\n",
    "import csv\n",
    "import time\n",
    "\n",
    "# Эта функция описывает процедуру записи результатов расчетов в файл\n",
    "def prp_atm(atoms,k):\n",
    "    with open('atoms_out' + str(k) + '.csv', 'w') as csvfile:\n",
    "        csvwriter = csv.writer(csvfile, delimiter=',',lineterminator='\\n')\n",
    "        header = ['ID','x','y','z','sigma','epsilon','charge','Rvdw','volume','AA','PDB']\n",
    "        csvwriter.writerow(header)\n",
    "        for i in atoms:\n",
    "            csvwriter.writerow(i)\n",
    "            \n",
    "# Эта функция нужна, чтобы следить за временем работы программы            \n",
    "def millis():\n",
    "    millis = int(round(time.time() * 1000))\n",
    "    return millis\n",
    "            \n",
    "N = 10000 # число итераций\n",
    "l = len(atoms) # число атомов в изучаемом белке\n",
    "h = [0.02,0.02,0.02] # размеры шагов по ортам в ангстремах\n",
    "L = 3 # сколько шагов делаем вдоль каждого орта с учетом знака\n",
    "S = 0\n",
    "r = 10 # размер окрестности атома, по которой честно суммируем\n",
    "M = 1000 # параметр, отвечающий за частоту вывода и сохранения информации\n",
    "mas = []\n",
    "tt = []\n",
    "time_start = millis()\n",
    "\n",
    "\n",
    "for k in range(0,N):\n",
    "    atoms_old = atoms\n",
    "    record = [0,0,0]\n",
    "    num = pyrandom.randrange(0, l)\n",
    "    nghb_d = nghbd(dihedrals,num)\n",
    "    nghb_a = nghba(angles,num)\n",
    "    nghb_b = nghbb(bonds,num)\n",
    "    nghb_nb = nghbnb(atoms,num,r)[0]\n",
    "    nghbc = nghbnb(atoms,num,r)[1]\n",
    "    [Cx,Cy,Cz] = coef_nb(atoms,num,nghbc)\n",
    "    DE_elst = E_elst(atoms, neighbours, two_bonds_neigh, three_bonds_neigh,num) - E_elst_m(atoms, neighbours, two_bonds_neigh, three_bonds_neigh,num,nghb_nb)\n",
    "    E_old = E(atoms, dihedrals, angles, bonds, neighbours, two_bonds_neigh, three_bonds_neigh, num, nghb_d, nghb_a, nghb_b, nghb_nb, full = True)\n",
    "    E_record = E_old\n",
    "    for px in range(-L,L+1):\n",
    "        for py in range(-L,L+1):\n",
    "            for pz in range(-L,L+1):\n",
    "                atoms[num][1] = atoms_old[num][1] + px*h[0]\n",
    "                atoms[num][2] = atoms_old[num][2] + py*h[1]\n",
    "                atoms[num][3] = atoms_old[num][3] + pz*h[2]\n",
    "                E_new = DE_elst + Cx*px*h[0] + Cy*py*h[1] + Cz*pz*h[2] + E(atoms, dihedrals, angles, bonds, neighbours, two_bonds_neigh, three_bonds_neigh, num, nghb_d, nghb_a, nghb_b, nghb_nb, full = False)\n",
    "                if E_new < E_record - 2: #  \"-0.2\" чтобы не учитвать погрешности в аппроксимации\n",
    "                    record = [px, py, pz]\n",
    "                    E_record = E_new\n",
    "    atoms = atoms_old\n",
    "    atoms[num][1] = atoms_old[num][1] + record[0]*h[0]\n",
    "    atoms[num][2] = atoms_old[num][2] + record[1]*h[1]\n",
    "    atoms[num][3] = atoms_old[num][3] + record[2]*h[2]\n",
    "    S = S + E_old - E_record\n",
    "    mas.append(S)\n",
    "    time_now = millis()\n",
    "    ttm = (time_now - time_start)/60000\n",
    "    tt.append(ttm)\n",
    "    # приводимый далее блок можно закомментировать\n",
    "    # это просто печать результатов в файлы и отображения хода работы метода\n",
    "    if k/M == int(k/M):\n",
    "        prp_atm(atoms,k)\n",
    "        os.system('./to-pdb atoms_out' + str(k) + '.csv output' + str(k) + '.pdb')\n",
    "        time_now = millis()\n",
    "        tm = (time_now - time_start)/60000\n",
    "        print(\"Число итераций {}; Энергия {}; Время (мин) {}\".format(k,S,tm))\n",
    "print(S)    "
   ]
  },
  {
   "cell_type": "code",
   "execution_count": 132,
   "metadata": {},
   "outputs": [
    {
     "data": {
      "image/png": "[encoded data removed]",
      "text/plain": [
       "<matplotlib.figure.Figure at 0x10c4874a8>"
      ]
     },
     "metadata": {},
     "output_type": "display_data"
    }
   ],
   "source": [
    "import matplotlib.pyplot as plt\n",
    "mmas = - np.array(mas)\n",
    "plt.plot(tt,mmas)\n",
    "plt.xlabel(r\"Время работы программы в минутах\")\n",
    "plt.ylabel(r\"$\\Delta E$\")\n",
    "plt.grid(True)\n",
    "plt.show()"
   ]
  },
  {
   "cell_type": "code",
   "execution_count": 259,
   "metadata": {},
   "outputs": [
    {
     "name": "stdout",
     "output_type": "stream",
     "text": [
      "-9.24958278929\n"
     ]
    },
    {
     "data": {
      "image/png": "[encoded data removed]",
      "text/plain": [
       "<matplotlib.figure.Figure at 0x108b40e10>"
      ]
     },
     "metadata": {},
     "output_type": "display_data"
    },
    {
     "name": "stdout",
     "output_type": "stream",
     "text": [
      "-9.26363823318\n"
     ]
    }
   ],
   "source": [
    "num = 280\n",
    "coor = 2\n",
    "h = 0.005\n",
    "M = 100\n",
    "mmm = []\n",
    "ccc = []\n",
    "print(E(atoms, dihedrals, angles, bonds, neighbours, two_bonds_neigh, three_bonds_neigh, num, nghb_d, nghb_a, nghb_b, nghb_nb, full = True))\n",
    "#print(E(atoms, dihedrals, angles, bonds, neighbours, two_bonds_neigh, three_bonds_neigh,nm))\n",
    "for k in range(0,M):\n",
    "    atoms[nm][coor] = atoms[nm][coor] + h\n",
    "    EE = E(atoms, dihedrals, angles, bonds, neighbours, two_bonds_neigh, three_bonds_neigh, num, nghb_d, nghb_a, nghb_b, nghb_nb, full = True) #E(atoms, dihedrals, angles, bonds, neighbours, two_bonds_neigh, three_bonds_neigh,nm)\n",
    "    mmm.append(EE)\n",
    "    ccc.append(k*h)  \n",
    "\n",
    "\n",
    "import matplotlib.pyplot as plt\n",
    "plt.plot(ccc,mmm)\n",
    "plt.ylabel(r\"Изменение энергии\")\n",
    "plt.xlabel(r\"Изменение положения атома\")\n",
    "plt.grid(True)\n",
    "plt.show()\n",
    "    \n",
    "print(E(atoms, dihedrals, angles, bonds, neighbours, two_bonds_neigh, three_bonds_neigh, num, nghb_d, nghb_a, nghb_b, nghb_nb, full = True))\n",
    "#print(E(atoms, dihedrals, angles, bonds, neighbours, two_bonds_neigh, three_bonds_neigh,nm))"
   ]
  },
  {
   "cell_type": "code",
   "execution_count": 14,
   "metadata": {},
   "outputs": [
    {
     "name": "stdout",
     "output_type": "stream",
     "text": [
      "6.90602313923\n"
     ]
    }
   ],
   "source": [
    "print(E(atoms, dihedrals, angles, bonds, neighbours, two_bonds_neigh, three_bonds_neigh,2))"
   ]
  },
  {
   "cell_type": "code",
   "execution_count": 47,
   "metadata": {},
   "outputs": [
    {
     "name": "stdout",
     "output_type": "stream",
     "text": [
      "4438.13048459\n",
      "4438.13048459\n"
     ]
    }
   ],
   "source": [
    "print(E(atoms, dihedrals, angles, bonds, neighbours, two_bonds_neigh, three_bonds_neigh,140))\n",
    "atoms[140][0] = atoms[140][0] + 0.5\n",
    "print(E(atoms, dihedrals, angles, bonds, neighbours, two_bonds_neigh, three_bonds_neigh,140))"
   ]
  },
  {
   "cell_type": "code",
   "execution_count": 59,
   "metadata": {},
   "outputs": [
    {
     "name": "stdout",
     "output_type": "stream",
     "text": [
      "[3 4 3]\n"
     ]
    }
   ],
   "source": [
    "a = np.array([1,2,3])\n",
    "b = np.array([3,2,1])\n",
    "print(a*b)"
   ]
  },
  {
   "cell_type": "code",
   "execution_count": 74,
   "metadata": {},
   "outputs": [],
   "source": [
    "c = 10*[1,1,1]\n",
    "#c[2][3]=[4,5]"
   ]
  },
  {
   "cell_type": "code",
   "execution_count": 77,
   "metadata": {},
   "outputs": [
    {
     "ename": "TypeError",
     "evalue": "'int' object is not subscriptable",
     "traceback": [
      "\u001b[0;31m---------------------------------------------------------------------------\u001b[0m",
      "\u001b[0;31mTypeError\u001b[0m                                 Traceback (most recent call last)",
      "\u001b[0;32m<ipython-input-77-00fd0f5235d5>\u001b[0m in \u001b[0;36m<module>\u001b[0;34m()\u001b[0m\n\u001b[0;32m----> 1\u001b[0;31m \u001b[0mprint\u001b[0m\u001b[0;34m(\u001b[0m\u001b[0mc\u001b[0m\u001b[0;34m[\u001b[0m\u001b[0;36m5\u001b[0m\u001b[0;34m]\u001b[0m\u001b[0;34m[\u001b[0m\u001b[0;36m2\u001b[0m\u001b[0;34m]\u001b[0m\u001b[0;34m)\u001b[0m\u001b[0;34m\u001b[0m\u001b[0m\n\u001b[0m",
      "\u001b[0;31mTypeError\u001b[0m: 'int' object is not subscriptable"
     ],
     "output_type": "error"
    }
   ],
   "source": [
    "print(c[5][2])"
   ]
  },
  {
   "cell_type": "code",
   "execution_count": 101,
   "metadata": {},
   "outputs": [
    {
     "name": "stdout",
     "output_type": "stream",
     "text": [
      "True\n"
     ]
    }
   ],
   "source": [
    "def ff(f = True):\n",
    "    if f:\n",
    "        print(\"True\")\n",
    "    else:\n",
    "        print(\"False\")\n",
    "ff(f = True)"
   ]
  },
  {
   "cell_type": "code",
   "execution_count": 97,
   "metadata": {},
   "outputs": [
    {
     "name": "stdout",
     "output_type": "stream",
     "text": [
      "2\n"
     ]
    }
   ],
   "source": [
    "c = [1,2,3]\n",
    "[c1,c2,c3] = c\n",
    "print(c2)"
   ]
  },
  {
   "cell_type": "code",
   "execution_count": 102,
   "metadata": {},
   "outputs": [
    {
     "name": "stdout",
     "output_type": "stream",
     "text": [
      "-2\n",
      "-1\n",
      "0\n",
      "1\n"
     ]
    }
   ],
   "source": [
    "for k in range(-2,2):\n",
    "    print(k)"
   ]
  },
  {
   "cell_type": "code",
   "execution_count": 107,
   "metadata": {},
   "outputs": [
    {
     "name": "stdout",
     "output_type": "stream",
     "text": [
      "5\n"
     ]
    }
   ],
   "source": [
    "print(L)"
   ]
  },
  {
   "cell_type": "code",
   "execution_count": 238,
   "metadata": {},
   "outputs": [
    {
     "name": "stdout",
     "output_type": "stream",
     "text": [
      "Энергия -169.7640675101076; Время (мин) 0.04665\n"
     ]
    },
    {
     "data": {
      "text/plain": [
       "0"
      ]
     },
     "execution_count": 238,
     "metadata": {},
     "output_type": "execute_result"
    }
   ],
   "source": [
    "time_start = millis()\n",
    "l = len(atoms) # число атомов в изучаемом белке\n",
    "h = [0.02,0.02,0.02] # размеры шагов по ортам в ангстремах\n",
    "L = 5 # сколько шагов делаем вдоль каждого орта с учетом знака\n",
    "S = 0\n",
    "r = 10 # размер окрестности атома, по которой честно суммируе\n",
    "atoms_old = atoms\n",
    "record = [0,0,0]\n",
    "num = 434 #pyrandom.randrange(0, l)\n",
    "nghb_d = nghbd(dihedrals,num)\n",
    "nghb_a = nghba(angles,num)\n",
    "nghb_b = nghbb(bonds,num)\n",
    "nghb_nb = nghbnb(atoms,num,r)[0]\n",
    "nghbc = nghbnb(atoms,num,r)[1]\n",
    "[Cx,Cy,Cz] = coef_nb(atoms,num,nghbc)\n",
    "DE_elst = E_elst(atoms, neighbours, two_bonds_neigh, three_bonds_neigh,num) - E_elst_m(atoms, neighbours, two_bonds_neigh, three_bonds_neigh,num,nghb_nb)\n",
    "E_old = E(atoms, dihedrals, angles, bonds, neighbours, two_bonds_neigh, three_bonds_neigh, num, nghb_d, nghb_a, nghb_b, nghb_nb, full = True)\n",
    "E_record = E_old\n",
    "for px in range(-L,L+1):\n",
    "     for py in range(-L,L+1):\n",
    "        for pz in range(-L,L+1):\n",
    "            atoms[num][1] = atoms_old[num][1] + px*h[0]\n",
    "            atoms[num][2] = atoms_old[num][2] + py*h[1]\n",
    "            atoms[num][3] = atoms_old[num][3] + pz*h[2]\n",
    "            E_new = DE_elst + Cx*px*h[0] + Cy*py*h[1] + Cz*pz*h[2] + E(atoms, dihedrals, angles, bonds, neighbours, two_bonds_neigh, three_bonds_neigh, num, nghb_d, nghb_a, nghb_b, nghb_nb, full = False)\n",
    "            if E_new < E_record - 0.05: #  \"-0.05\" чтобы не учитвать погрешности в аппроксимации\n",
    "                record = [px, py, pz]\n",
    "                E_record = E_new\n",
    "atoms = atoms_old\n",
    "atoms[num][1] = atoms_old[num][1] + record[0]*h[0]\n",
    "atoms[num][2] = atoms_old[num][2] + record[1]*h[1]\n",
    "atoms[num][3] = atoms_old[num][3] + record[2]*h[2]\n",
    "\n",
    "time_now = millis()\n",
    "tm = (time_now - time_start)/60000\n",
    "ETRUE = E(atoms, dihedrals, angles, bonds, neighbours, two_bonds_neigh, three_bonds_neigh, num, nghb_d, nghb_a, nghb_b, nghb_nb, full = True)\n",
    "DE = ETRUE - E_old\n",
    "print(\"Энергия {}; Время (мин) {}\".format(DE,tm))\n",
    "k = 0\n",
    "prp_atm(atoms,k)\n",
    "os.system('./to-pdb atoms_out' + str(k) + '.csv output' + str(k) + '.pdb')"
   ]
  },
  {
   "cell_type": "code",
   "execution_count": 229,
   "metadata": {},
   "outputs": [
    {
     "name": "stdout",
     "output_type": "stream",
     "text": [
      "[998, 999, 1000, 1076, 1077, 1078, 1086, 1087, 1088, 1274, 1275, 1276, 1297, 1298, 1299, 1329, 1330, 1331, 1347, 1348, 1349]\n",
      "[692, 738, 739, 746, 747, 757, 876, 877, 878, 896, 916, 931]\n",
      "[420, 421, 422, 497]\n",
      "[98, 112, 114, 125, 132, 162, 163, 167, 168, 172, 174, 176, 177, 188, 194, 198, 202, 203, 204, 206, 207, 208, 209, 210, 211, 215, 217, 218, 223, 225, 226, 230, 233, 236, 239, 243, 255, 257, 258, 259, 261, 263, 267, 268, 270, 271, 272, 273, 276, 278, 280, 282, 283, 286, 288, 291, 294, 295, 298, 300, 301, 303, 304, 305, 309, 310, 311, 312, 313, 317, 319, 320, 321, 324, 325, 327, 328, 331, 332, 333, 339, 340, 341, 343, 344, 346, 348, 349, 351, 354, 355, 360, 362, 365, 368, 371, 373, 376, 379, 382, 384, 386, 387, 391, 392, 393, 396, 399, 400, 402, 404, 405, 406, 407, 408, 410, 412, 415, 416, 422, 424, 425, 426, 428, 431, 432, 434, 436, 437, 438, 439, 441, 444, 449, 453, 454, 471, 472, 474, 475, 478, 482, 487, 490, 492, 496, 498, 503, 504, 509, 511, 512, 513, 514, 515, 516, 517, 520, 521, 522, 524, 525, 527, 528, 530, 532, 534, 535, 537, 541, 543, 546, 554, 559, 560, 562, 564, 567, 568, 569, 571, 576, 582, 586, 588, 593, 597, 601, 612, 617, 619, 620, 621, 626, 631, 633, 636, 638, 639, 642, 647, 649, 652, 658, 664, 675, 678, 679, 680, 681, 682, 687, 689, 691, 692, 697, 698, 700, 702, 705, 707, 709, 712, 728, 731, 732, 733, 737, 740, 741, 742, 743, 746, 747, 750, 752, 760, 761, 762, 767, 769, 770, 772, 775, 776, 778, 779, 780, 781, 782, 790, 792, 795, 796, 798, 801, 803, 806, 811, 813, 816, 817, 821, 823, 826, 827, 829, 830, 836, 838, 840, 843, 844, 847, 849, 852, 853, 856, 859, 861, 866, 870, 877, 881, 886, 890, 891, 896, 902, 905, 907, 909, 910, 915, 920, 924, 926, 936, 941, 947, 952, 963, 964, 971, 972, 973, 975, 979, 980, 981, 985, 992, 994, 998, 1000, 1006, 1008, 1011, 1012, 1014, 1016, 1018, 1025, 1028, 1030, 1035, 1036, 1043, 1047, 1049, 1051, 1052, 1064, 1066, 1068, 1072]\n",
      "[-0.64841176096345898, -0.34487661167721234, -0.3806453116840201]\n"
     ]
    }
   ],
   "source": [
    "print(nghb_d)\n",
    "print(nghb_a)\n",
    "print(nghb_b)\n",
    "print(nghb_nb)\n",
    "#print(nghbc)\n",
    "print([Cx,Cy,Cz])"
   ]
  },
  {
   "cell_type": "code",
   "execution_count": 164,
   "metadata": {},
   "outputs": [
    {
     "name": "stdout",
     "output_type": "stream",
     "text": [
      "[5 5 5]\n"
     ]
    }
   ],
   "source": [
    "def dgdfg(nghbc):\n",
    "    E = np.array([0,0,0])\n",
    "    for j in nghbc: \n",
    "        r = np.array([1,1,1]) \n",
    "        E[0] = E[0] + r[0]\n",
    "        E[1] = E[1] + r[1]\n",
    "        E[2] = E[2] + r[2]\n",
    "    return E\n",
    "nghbc = [1,2,3,4,76]\n",
    "print(dgdfg(nghbc))"
   ]
  },
  {
   "cell_type": "code",
   "execution_count": 212,
   "metadata": {},
   "outputs": [
    {
     "name": "stdout",
     "output_type": "stream",
     "text": [
      "0.0\n",
      "1.63332281568e-05\n",
      "1.63332281568e-05\n",
      "0.022693184179\n",
      "0.022693184179\n"
     ]
    }
   ],
   "source": [
    "E = np.array([0.0, 0.0, 0.0])\n",
    "print(E[0])\n",
    "i = 5\n",
    "j = 8\n",
    "r = np.array(atoms[j][1:4]) - np.array(atoms[i][1:4])\n",
    "ccc = atoms[i][6] * atoms[j][6] * (atoms[j][1] - atoms[i][1]) / pow(np.linalg.norm(r),3)\n",
    "print(ccc)\n",
    "E[0] = E[0] + ccc \n",
    "print(E[0])\n",
    "print(E[0] * 1389.38757)\n",
    "print(ccc * 1389.38757)"
   ]
  },
  {
   "cell_type": "code",
   "execution_count": 175,
   "metadata": {},
   "outputs": [
    {
     "name": "stdout",
     "output_type": "stream",
     "text": [
      "0.022693184179\n"
     ]
    }
   ],
   "source": [
    "print((E[0] + atoms[i][6] * atoms[j][6] * (atoms[j][1] - atoms[i][1]) / pow(np.linalg.norm(r),3))* 1389.38757)"
   ]
  },
  {
   "cell_type": "code",
   "execution_count": 210,
   "metadata": {},
   "outputs": [
    {
     "name": "stdout",
     "output_type": "stream",
     "text": [
      "[  0.00000000e+00   1.63332282e-05   0.00000000e+00]\n"
     ]
    }
   ],
   "source": [
    "y = np.array([0.0,0.0,0.0])\n",
    "y[1] = y[1] + ccc\n",
    "print(y)"
   ]
  },
  {
   "cell_type": "code",
   "execution_count": 239,
   "metadata": {},
   "outputs": [
    {
     "name": "stdout",
     "output_type": "stream",
     "text": [
      "-0.0945943788217\n"
     ]
    }
   ],
   "source": [
    "num = 434\n",
    "Delta = E_vdw(atoms, neighbours, two_bonds_neigh, three_bonds_neigh,num) - E_vdw_m(atoms, neighbours, two_bonds_neigh, three_bonds_neigh,num,nghb_nb)\n",
    "#print(nghb_nb)\n",
    "print (Delta)"
   ]
  },
  {
   "cell_type": "code",
   "execution_count": 249,
   "metadata": {},
   "outputs": [],
   "source": [
    "aa = DE_elst + Cx*px*h[0] + Cy*py*h[1] + Cz*pz*h[2] + E(atoms, dihedrals, angles, bonds, neighbours, two_bonds_neigh, three_bonds_neigh, num, nghb_d, nghb_a, nghb_b, nghb_nb, full = False)"
   ]
  },
  {
   "cell_type": "code",
   "execution_count": 250,
   "metadata": {},
   "outputs": [],
   "source": [
    "bb = E(atoms, dihedrals, angles, bonds, neighbours, two_bonds_neigh, three_bonds_neigh, num, nghb_d, nghb_a, nghb_b, nghb_nb, full = True)"
   ]
  },
  {
   "cell_type": "code",
   "execution_count": 254,
   "metadata": {},
   "outputs": [
    {
     "data": {
      "text/plain": [
       "1.0280167218129463"
      ]
     },
     "execution_count": 254,
     "metadata": {},
     "output_type": "execute_result"
    }
   ],
   "source": [
    "bb - aa"
   ]
  },
  {
   "cell_type": "code",
   "execution_count": 252,
   "metadata": {},
   "outputs": [
    {
     "data": {
      "text/plain": [
       "3.2317934304534361"
      ]
     },
     "execution_count": 252,
     "metadata": {},
     "output_type": "execute_result"
    }
   ],
   "source": [
    "DE_elst"
   ]
  },
  {
   "cell_type": "code",
   "execution_count": null,
   "metadata": {},
   "outputs": [],
   "source": []
  }
 ],
 "metadata": {
  "kernelspec": {
   "display_name": "Python 3",
   "language": "python",
   "name": "python3"
  },
  "language_info": {
   "codemirror_mode": {
    "name": "ipython",
    "version": 3
   },
   "file_extension": ".py",
   "mimetype": "text/x-python",
   "name": "python",
   "nbconvert_exporter": "python",
   "pygments_lexer": "ipython3",
   "version": "3.6.2"
  }
 },
 "nbformat": 4,
 "nbformat_minor": 2
}
